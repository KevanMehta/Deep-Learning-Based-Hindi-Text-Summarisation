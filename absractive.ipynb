{
  "nbformat": 4,
  "nbformat_minor": 0,
  "metadata": {
    "colab": {
      "name": "absractive.ipynb",
      "provenance": [],
      "collapsed_sections": [],
      "include_colab_link": true
    },
    "kernelspec": {
      "name": "python3",
      "display_name": "Python 3"
    },
    "language_info": {
      "name": "python"
    },
    "accelerator": "GPU"
  },
  "cells": [
    {
      "cell_type": "markdown",
      "metadata": {
        "id": "view-in-github",
        "colab_type": "text"
      },
      "source": [
        "<a href=\"https://colab.research.google.com/github/KevanMehta/Hindi-Text-Summarisation/blob/main/absractive.ipynb\" target=\"_parent\"><img src=\"https://colab.research.google.com/assets/colab-badge.svg\" alt=\"Open In Colab\"/></a>"
      ]
    },
    {
      "cell_type": "code",
      "metadata": {
        "colab": {
          "base_uri": "https://localhost:8080/"
        },
        "id": "P0pX_f1zXYxN",
        "outputId": "7afe0767-20f4-451a-9c7e-528b1ae5ca54"
      },
      "source": [
        "from google.colab import drive\n",
        "drive.mount('/content/drive')"
      ],
      "execution_count": null,
      "outputs": [
        {
          "output_type": "stream",
          "name": "stdout",
          "text": [
            "Mounted at /content/drive\n"
          ]
        }
      ]
    },
    {
      "cell_type": "code",
      "metadata": {
        "id": "gYKXnEF4X1OL"
      },
      "source": [
        "from mpl_toolkits.mplot3d import Axes3D\n",
        "from sklearn.preprocessing import StandardScaler\n",
        "import matplotlib.pyplot as plt # plotting\n",
        "import numpy as np # linear algebra\n",
        "import os # accessing directory structure\n",
        "import pandas as pd # data processing, CSV file I/O (e.g. pd.read_csv)"
      ],
      "execution_count": null,
      "outputs": []
    },
    {
      "cell_type": "code",
      "metadata": {
        "colab": {
          "base_uri": "https://localhost:8080/"
        },
        "id": "NKmNKIHMX-aB",
        "outputId": "a6f7c28e-542f-481c-dad4-85ac570eba6e"
      },
      "source": [
        "nRowsRead = 10000 # specify 'None' if want to read whole file\n",
        "# test.csv may have more rows in reality, but we are only loading/previewing the first 1000 rows\n",
        "df1 = pd.read_csv('/content/drive/MyDrive/archive/test.csv', delimiter=',', nrows = nRowsRead)\n",
        "df1.dataframeName = 'test.csv'\n",
        "nRow, nCol = df1.shape\n",
        "print(f'There are {nRow} rows and {nCol} columns')"
      ],
      "execution_count": null,
      "outputs": [
        {
          "output_type": "stream",
          "name": "stdout",
          "text": [
            "There are 10000 rows and 2 columns\n"
          ]
        }
      ]
    },
    {
      "cell_type": "markdown",
      "source": [
        "# New Section"
      ],
      "metadata": {
        "id": "Zhi1tR0_TMuO"
      }
    },
    {
      "cell_type": "code",
      "metadata": {
        "colab": {
          "base_uri": "https://localhost:8080/",
          "height": 206
        },
        "id": "24GIv2svYQ_7",
        "outputId": "64b3bbfa-e38b-4580-e12a-22d13337c16a"
      },
      "source": [
        "df1.head(5)"
      ],
      "execution_count": null,
      "outputs": [
        {
          "output_type": "execute_result",
          "data": {
            "text/html": [
              "\n",
              "  <div id=\"df-1cfc362a-3c2e-489d-8feb-46fab0a607d4\">\n",
              "    <div class=\"colab-df-container\">\n",
              "      <div>\n",
              "<style scoped>\n",
              "    .dataframe tbody tr th:only-of-type {\n",
              "        vertical-align: middle;\n",
              "    }\n",
              "\n",
              "    .dataframe tbody tr th {\n",
              "        vertical-align: top;\n",
              "    }\n",
              "\n",
              "    .dataframe thead th {\n",
              "        text-align: right;\n",
              "    }\n",
              "</style>\n",
              "<table border=\"1\" class=\"dataframe\">\n",
              "  <thead>\n",
              "    <tr style=\"text-align: right;\">\n",
              "      <th></th>\n",
              "      <th>headline</th>\n",
              "      <th>article</th>\n",
              "    </tr>\n",
              "  </thead>\n",
              "  <tbody>\n",
              "    <tr>\n",
              "      <th>0</th>\n",
              "      <td>पठानकोट पहुंचे PM मोदी, एयरबेस का जायजा ले बॉर...</td>\n",
              "      <td>प्रधानमंत्री नरेंद्र मोदी पठानकोट एयरबेस पहुंच...</td>\n",
              "    </tr>\n",
              "    <tr>\n",
              "      <th>1</th>\n",
              "      <td>सचिन ने देशवासियों को समर्पित किया अपना दोहरा शतक</td>\n",
              "      <td>सचिन तेंदुलकर ने एकदिवसीय अंतरराष्ट्रीय क्रिके...</td>\n",
              "    </tr>\n",
              "    <tr>\n",
              "      <th>2</th>\n",
              "      <td>एनआईए करेगी छत्तीसगढ़ में सुरक्षा खामियों की ज...</td>\n",
              "      <td>केंद्रीय गृह राज्य मंत्री आर. पी. एन. सिंह ने ...</td>\n",
              "    </tr>\n",
              "    <tr>\n",
              "      <th>3</th>\n",
              "      <td>सीधी बात:  शाह बोले- हमारा बस चलता तो अब तक मं...</td>\n",
              "      <td>भारतीय जनता पार्टी (बीजेपी) के राष्ट्रीय अध्यक...</td>\n",
              "    </tr>\n",
              "    <tr>\n",
              "      <th>4</th>\n",
              "      <td>ऋषभ पंत के पास यूनिक टैलेंट, उसके साथ छेड़छाड़ न...</td>\n",
              "      <td>ऋषभ पंत की कभी कभार इस बात के लिए आलोचना की जा...</td>\n",
              "    </tr>\n",
              "  </tbody>\n",
              "</table>\n",
              "</div>\n",
              "      <button class=\"colab-df-convert\" onclick=\"convertToInteractive('df-1cfc362a-3c2e-489d-8feb-46fab0a607d4')\"\n",
              "              title=\"Convert this dataframe to an interactive table.\"\n",
              "              style=\"display:none;\">\n",
              "        \n",
              "  <svg xmlns=\"http://www.w3.org/2000/svg\" height=\"24px\"viewBox=\"0 0 24 24\"\n",
              "       width=\"24px\">\n",
              "    <path d=\"M0 0h24v24H0V0z\" fill=\"none\"/>\n",
              "    <path d=\"M18.56 5.44l.94 2.06.94-2.06 2.06-.94-2.06-.94-.94-2.06-.94 2.06-2.06.94zm-11 1L8.5 8.5l.94-2.06 2.06-.94-2.06-.94L8.5 2.5l-.94 2.06-2.06.94zm10 10l.94 2.06.94-2.06 2.06-.94-2.06-.94-.94-2.06-.94 2.06-2.06.94z\"/><path d=\"M17.41 7.96l-1.37-1.37c-.4-.4-.92-.59-1.43-.59-.52 0-1.04.2-1.43.59L10.3 9.45l-7.72 7.72c-.78.78-.78 2.05 0 2.83L4 21.41c.39.39.9.59 1.41.59.51 0 1.02-.2 1.41-.59l7.78-7.78 2.81-2.81c.8-.78.8-2.07 0-2.86zM5.41 20L4 18.59l7.72-7.72 1.47 1.35L5.41 20z\"/>\n",
              "  </svg>\n",
              "      </button>\n",
              "      \n",
              "  <style>\n",
              "    .colab-df-container {\n",
              "      display:flex;\n",
              "      flex-wrap:wrap;\n",
              "      gap: 12px;\n",
              "    }\n",
              "\n",
              "    .colab-df-convert {\n",
              "      background-color: #E8F0FE;\n",
              "      border: none;\n",
              "      border-radius: 50%;\n",
              "      cursor: pointer;\n",
              "      display: none;\n",
              "      fill: #1967D2;\n",
              "      height: 32px;\n",
              "      padding: 0 0 0 0;\n",
              "      width: 32px;\n",
              "    }\n",
              "\n",
              "    .colab-df-convert:hover {\n",
              "      background-color: #E2EBFA;\n",
              "      box-shadow: 0px 1px 2px rgba(60, 64, 67, 0.3), 0px 1px 3px 1px rgba(60, 64, 67, 0.15);\n",
              "      fill: #174EA6;\n",
              "    }\n",
              "\n",
              "    [theme=dark] .colab-df-convert {\n",
              "      background-color: #3B4455;\n",
              "      fill: #D2E3FC;\n",
              "    }\n",
              "\n",
              "    [theme=dark] .colab-df-convert:hover {\n",
              "      background-color: #434B5C;\n",
              "      box-shadow: 0px 1px 3px 1px rgba(0, 0, 0, 0.15);\n",
              "      filter: drop-shadow(0px 1px 2px rgba(0, 0, 0, 0.3));\n",
              "      fill: #FFFFFF;\n",
              "    }\n",
              "  </style>\n",
              "\n",
              "      <script>\n",
              "        const buttonEl =\n",
              "          document.querySelector('#df-1cfc362a-3c2e-489d-8feb-46fab0a607d4 button.colab-df-convert');\n",
              "        buttonEl.style.display =\n",
              "          google.colab.kernel.accessAllowed ? 'block' : 'none';\n",
              "\n",
              "        async function convertToInteractive(key) {\n",
              "          const element = document.querySelector('#df-1cfc362a-3c2e-489d-8feb-46fab0a607d4');\n",
              "          const dataTable =\n",
              "            await google.colab.kernel.invokeFunction('convertToInteractive',\n",
              "                                                     [key], {});\n",
              "          if (!dataTable) return;\n",
              "\n",
              "          const docLinkHtml = 'Like what you see? Visit the ' +\n",
              "            '<a target=\"_blank\" href=https://colab.research.google.com/notebooks/data_table.ipynb>data table notebook</a>'\n",
              "            + ' to learn more about interactive tables.';\n",
              "          element.innerHTML = '';\n",
              "          dataTable['output_type'] = 'display_data';\n",
              "          await google.colab.output.renderOutput(dataTable, element);\n",
              "          const docLink = document.createElement('div');\n",
              "          docLink.innerHTML = docLinkHtml;\n",
              "          element.appendChild(docLink);\n",
              "        }\n",
              "      </script>\n",
              "    </div>\n",
              "  </div>\n",
              "  "
            ],
            "text/plain": [
              "                                            headline                                            article\n",
              "0  पठानकोट पहुंचे PM मोदी, एयरबेस का जायजा ले बॉर...  प्रधानमंत्री नरेंद्र मोदी पठानकोट एयरबेस पहुंच...\n",
              "1  सचिन ने देशवासियों को समर्पित किया अपना दोहरा शतक  सचिन तेंदुलकर ने एकदिवसीय अंतरराष्ट्रीय क्रिके...\n",
              "2  एनआईए करेगी छत्तीसगढ़ में सुरक्षा खामियों की ज...  केंद्रीय गृह राज्य मंत्री आर. पी. एन. सिंह ने ...\n",
              "3  सीधी बात:  शाह बोले- हमारा बस चलता तो अब तक मं...  भारतीय जनता पार्टी (बीजेपी) के राष्ट्रीय अध्यक...\n",
              "4  ऋषभ पंत के पास यूनिक टैलेंट, उसके साथ छेड़छाड़ न...  ऋषभ पंत की कभी कभार इस बात के लिए आलोचना की जा..."
            ]
          },
          "metadata": {},
          "execution_count": 26
        }
      ]
    },
    {
      "cell_type": "code",
      "metadata": {
        "colab": {
          "base_uri": "https://localhost:8080/"
        },
        "id": "N_fTvUM0YUpW",
        "outputId": "32c4f9ec-6cf8-439b-d27f-c2d70b194d4e"
      },
      "source": [
        "nRowsRead = 100000 # specify 'None' if want to read whole file\n",
        "# train.csv may have more rows in reality, but we are only loading/previewing the first 1000 rows\n",
        "df = pd.read_csv('/content/drive/MyDrive/archive/train.csv', delimiter=',', nrows = nRowsRead)\n",
        "df.dataframeName = 'train.csv'\n",
        "nRow, nCol = df.shape\n",
        "print(f'There are {nRow} rows and {nCol} columns')"
      ],
      "execution_count": null,
      "outputs": [
        {
          "output_type": "stream",
          "name": "stdout",
          "text": [
            "There are 100000 rows and 2 columns\n"
          ]
        }
      ]
    },
    {
      "cell_type": "code",
      "metadata": {
        "colab": {
          "base_uri": "https://localhost:8080/",
          "height": 206
        },
        "id": "8qCihfOWYdkJ",
        "outputId": "97173552-ee16-43be-e39d-e6833b210b9c"
      },
      "source": [
        "df.head(5)"
      ],
      "execution_count": null,
      "outputs": [
        {
          "output_type": "execute_result",
          "data": {
            "text/html": [
              "\n",
              "  <div id=\"df-d5918181-8458-4728-827b-65e42ab9a9c8\">\n",
              "    <div class=\"colab-df-container\">\n",
              "      <div>\n",
              "<style scoped>\n",
              "    .dataframe tbody tr th:only-of-type {\n",
              "        vertical-align: middle;\n",
              "    }\n",
              "\n",
              "    .dataframe tbody tr th {\n",
              "        vertical-align: top;\n",
              "    }\n",
              "\n",
              "    .dataframe thead th {\n",
              "        text-align: right;\n",
              "    }\n",
              "</style>\n",
              "<table border=\"1\" class=\"dataframe\">\n",
              "  <thead>\n",
              "    <tr style=\"text-align: right;\">\n",
              "      <th></th>\n",
              "      <th>headline</th>\n",
              "      <th>article</th>\n",
              "    </tr>\n",
              "  </thead>\n",
              "  <tbody>\n",
              "    <tr>\n",
              "      <th>0</th>\n",
              "      <td>EXCLUSIVE: दिल्ली में डीजल टैक्सियों पर बैन से...</td>\n",
              "      <td>दिल्ली में सुप्रीम कोर्ट के डीज़ल टैक्सियों को...</td>\n",
              "    </tr>\n",
              "    <tr>\n",
              "      <th>1</th>\n",
              "      <td>जॉर्डन: राष्ट्रपति मुखर्जी ने 86 करोड़ डॉलर के...</td>\n",
              "      <td>जॉर्डन के ऐतिहासिक दौरे पर पहुंचे राष्ट्रपति प...</td>\n",
              "    </tr>\n",
              "    <tr>\n",
              "      <th>2</th>\n",
              "      <td>UN में पाकिस्तान की राजदूत मलीहा लोधी ने कराई ...</td>\n",
              "      <td>पाकिस्तानी नेताओं को विवादित और हास्यास्पद बया...</td>\n",
              "    </tr>\n",
              "    <tr>\n",
              "      <th>3</th>\n",
              "      <td>38 देशों में पीएम नरेंद्र मोदी बायोपिक को रिली...</td>\n",
              "      <td>पीएम नरेंद्र मोदी बायोपिक में विवेक ओबेरॉय ने ...</td>\n",
              "    </tr>\n",
              "    <tr>\n",
              "      <th>4</th>\n",
              "      <td>13 अगस्त 2011: दिनभर की बड़ी खबरें पढ़ें</td>\n",
              "      <td>देश, दुनिया, महानगर, खेल, आर्थिक और बॉलीवुड मे...</td>\n",
              "    </tr>\n",
              "  </tbody>\n",
              "</table>\n",
              "</div>\n",
              "      <button class=\"colab-df-convert\" onclick=\"convertToInteractive('df-d5918181-8458-4728-827b-65e42ab9a9c8')\"\n",
              "              title=\"Convert this dataframe to an interactive table.\"\n",
              "              style=\"display:none;\">\n",
              "        \n",
              "  <svg xmlns=\"http://www.w3.org/2000/svg\" height=\"24px\"viewBox=\"0 0 24 24\"\n",
              "       width=\"24px\">\n",
              "    <path d=\"M0 0h24v24H0V0z\" fill=\"none\"/>\n",
              "    <path d=\"M18.56 5.44l.94 2.06.94-2.06 2.06-.94-2.06-.94-.94-2.06-.94 2.06-2.06.94zm-11 1L8.5 8.5l.94-2.06 2.06-.94-2.06-.94L8.5 2.5l-.94 2.06-2.06.94zm10 10l.94 2.06.94-2.06 2.06-.94-2.06-.94-.94-2.06-.94 2.06-2.06.94z\"/><path d=\"M17.41 7.96l-1.37-1.37c-.4-.4-.92-.59-1.43-.59-.52 0-1.04.2-1.43.59L10.3 9.45l-7.72 7.72c-.78.78-.78 2.05 0 2.83L4 21.41c.39.39.9.59 1.41.59.51 0 1.02-.2 1.41-.59l7.78-7.78 2.81-2.81c.8-.78.8-2.07 0-2.86zM5.41 20L4 18.59l7.72-7.72 1.47 1.35L5.41 20z\"/>\n",
              "  </svg>\n",
              "      </button>\n",
              "      \n",
              "  <style>\n",
              "    .colab-df-container {\n",
              "      display:flex;\n",
              "      flex-wrap:wrap;\n",
              "      gap: 12px;\n",
              "    }\n",
              "\n",
              "    .colab-df-convert {\n",
              "      background-color: #E8F0FE;\n",
              "      border: none;\n",
              "      border-radius: 50%;\n",
              "      cursor: pointer;\n",
              "      display: none;\n",
              "      fill: #1967D2;\n",
              "      height: 32px;\n",
              "      padding: 0 0 0 0;\n",
              "      width: 32px;\n",
              "    }\n",
              "\n",
              "    .colab-df-convert:hover {\n",
              "      background-color: #E2EBFA;\n",
              "      box-shadow: 0px 1px 2px rgba(60, 64, 67, 0.3), 0px 1px 3px 1px rgba(60, 64, 67, 0.15);\n",
              "      fill: #174EA6;\n",
              "    }\n",
              "\n",
              "    [theme=dark] .colab-df-convert {\n",
              "      background-color: #3B4455;\n",
              "      fill: #D2E3FC;\n",
              "    }\n",
              "\n",
              "    [theme=dark] .colab-df-convert:hover {\n",
              "      background-color: #434B5C;\n",
              "      box-shadow: 0px 1px 3px 1px rgba(0, 0, 0, 0.15);\n",
              "      filter: drop-shadow(0px 1px 2px rgba(0, 0, 0, 0.3));\n",
              "      fill: #FFFFFF;\n",
              "    }\n",
              "  </style>\n",
              "\n",
              "      <script>\n",
              "        const buttonEl =\n",
              "          document.querySelector('#df-d5918181-8458-4728-827b-65e42ab9a9c8 button.colab-df-convert');\n",
              "        buttonEl.style.display =\n",
              "          google.colab.kernel.accessAllowed ? 'block' : 'none';\n",
              "\n",
              "        async function convertToInteractive(key) {\n",
              "          const element = document.querySelector('#df-d5918181-8458-4728-827b-65e42ab9a9c8');\n",
              "          const dataTable =\n",
              "            await google.colab.kernel.invokeFunction('convertToInteractive',\n",
              "                                                     [key], {});\n",
              "          if (!dataTable) return;\n",
              "\n",
              "          const docLinkHtml = 'Like what you see? Visit the ' +\n",
              "            '<a target=\"_blank\" href=https://colab.research.google.com/notebooks/data_table.ipynb>data table notebook</a>'\n",
              "            + ' to learn more about interactive tables.';\n",
              "          element.innerHTML = '';\n",
              "          dataTable['output_type'] = 'display_data';\n",
              "          await google.colab.output.renderOutput(dataTable, element);\n",
              "          const docLink = document.createElement('div');\n",
              "          docLink.innerHTML = docLinkHtml;\n",
              "          element.appendChild(docLink);\n",
              "        }\n",
              "      </script>\n",
              "    </div>\n",
              "  </div>\n",
              "  "
            ],
            "text/plain": [
              "                                            headline                                            article\n",
              "0  EXCLUSIVE: दिल्ली में डीजल टैक्सियों पर बैन से...  दिल्ली में सुप्रीम कोर्ट के डीज़ल टैक्सियों को...\n",
              "1  जॉर्डन: राष्ट्रपति मुखर्जी ने 86 करोड़ डॉलर के...  जॉर्डन के ऐतिहासिक दौरे पर पहुंचे राष्ट्रपति प...\n",
              "2  UN में पाकिस्तान की राजदूत मलीहा लोधी ने कराई ...  पाकिस्तानी नेताओं को विवादित और हास्यास्पद बया...\n",
              "3  38 देशों में पीएम नरेंद्र मोदी बायोपिक को रिली...  पीएम नरेंद्र मोदी बायोपिक में विवेक ओबेरॉय ने ...\n",
              "4           13 अगस्त 2011: दिनभर की बड़ी खबरें पढ़ें  देश, दुनिया, महानगर, खेल, आर्थिक और बॉलीवुड मे..."
            ]
          },
          "metadata": {},
          "execution_count": 29
        }
      ]
    },
    {
      "cell_type": "code",
      "metadata": {
        "colab": {
          "base_uri": "https://localhost:8080/",
          "height": 174
        },
        "id": "peojkN-XYfp4",
        "outputId": "0bbc86d8-e051-4af0-b3d2-d39c2ce07765"
      },
      "source": [
        "df.describe()"
      ],
      "execution_count": null,
      "outputs": [
        {
          "output_type": "execute_result",
          "data": {
            "text/html": [
              "\n",
              "  <div id=\"df-c865945e-6caa-4a01-9933-c6632e68a127\">\n",
              "    <div class=\"colab-df-container\">\n",
              "      <div>\n",
              "<style scoped>\n",
              "    .dataframe tbody tr th:only-of-type {\n",
              "        vertical-align: middle;\n",
              "    }\n",
              "\n",
              "    .dataframe tbody tr th {\n",
              "        vertical-align: top;\n",
              "    }\n",
              "\n",
              "    .dataframe thead th {\n",
              "        text-align: right;\n",
              "    }\n",
              "</style>\n",
              "<table border=\"1\" class=\"dataframe\">\n",
              "  <thead>\n",
              "    <tr style=\"text-align: right;\">\n",
              "      <th></th>\n",
              "      <th>headline</th>\n",
              "      <th>article</th>\n",
              "    </tr>\n",
              "  </thead>\n",
              "  <tbody>\n",
              "    <tr>\n",
              "      <th>count</th>\n",
              "      <td>99992</td>\n",
              "      <td>100000</td>\n",
              "    </tr>\n",
              "    <tr>\n",
              "      <th>unique</th>\n",
              "      <td>99510</td>\n",
              "      <td>99987</td>\n",
              "    </tr>\n",
              "    <tr>\n",
              "      <th>top</th>\n",
              "      <td>Tech Wrap: यहां जानें आज की 5 बड़ी खबरें</td>\n",
              "      <td>हमारे साझेदार 'अनरियल टाइम्स' की खास व्यंग्यात...</td>\n",
              "    </tr>\n",
              "    <tr>\n",
              "      <th>freq</th>\n",
              "      <td>159</td>\n",
              "      <td>3</td>\n",
              "    </tr>\n",
              "  </tbody>\n",
              "</table>\n",
              "</div>\n",
              "      <button class=\"colab-df-convert\" onclick=\"convertToInteractive('df-c865945e-6caa-4a01-9933-c6632e68a127')\"\n",
              "              title=\"Convert this dataframe to an interactive table.\"\n",
              "              style=\"display:none;\">\n",
              "        \n",
              "  <svg xmlns=\"http://www.w3.org/2000/svg\" height=\"24px\"viewBox=\"0 0 24 24\"\n",
              "       width=\"24px\">\n",
              "    <path d=\"M0 0h24v24H0V0z\" fill=\"none\"/>\n",
              "    <path d=\"M18.56 5.44l.94 2.06.94-2.06 2.06-.94-2.06-.94-.94-2.06-.94 2.06-2.06.94zm-11 1L8.5 8.5l.94-2.06 2.06-.94-2.06-.94L8.5 2.5l-.94 2.06-2.06.94zm10 10l.94 2.06.94-2.06 2.06-.94-2.06-.94-.94-2.06-.94 2.06-2.06.94z\"/><path d=\"M17.41 7.96l-1.37-1.37c-.4-.4-.92-.59-1.43-.59-.52 0-1.04.2-1.43.59L10.3 9.45l-7.72 7.72c-.78.78-.78 2.05 0 2.83L4 21.41c.39.39.9.59 1.41.59.51 0 1.02-.2 1.41-.59l7.78-7.78 2.81-2.81c.8-.78.8-2.07 0-2.86zM5.41 20L4 18.59l7.72-7.72 1.47 1.35L5.41 20z\"/>\n",
              "  </svg>\n",
              "      </button>\n",
              "      \n",
              "  <style>\n",
              "    .colab-df-container {\n",
              "      display:flex;\n",
              "      flex-wrap:wrap;\n",
              "      gap: 12px;\n",
              "    }\n",
              "\n",
              "    .colab-df-convert {\n",
              "      background-color: #E8F0FE;\n",
              "      border: none;\n",
              "      border-radius: 50%;\n",
              "      cursor: pointer;\n",
              "      display: none;\n",
              "      fill: #1967D2;\n",
              "      height: 32px;\n",
              "      padding: 0 0 0 0;\n",
              "      width: 32px;\n",
              "    }\n",
              "\n",
              "    .colab-df-convert:hover {\n",
              "      background-color: #E2EBFA;\n",
              "      box-shadow: 0px 1px 2px rgba(60, 64, 67, 0.3), 0px 1px 3px 1px rgba(60, 64, 67, 0.15);\n",
              "      fill: #174EA6;\n",
              "    }\n",
              "\n",
              "    [theme=dark] .colab-df-convert {\n",
              "      background-color: #3B4455;\n",
              "      fill: #D2E3FC;\n",
              "    }\n",
              "\n",
              "    [theme=dark] .colab-df-convert:hover {\n",
              "      background-color: #434B5C;\n",
              "      box-shadow: 0px 1px 3px 1px rgba(0, 0, 0, 0.15);\n",
              "      filter: drop-shadow(0px 1px 2px rgba(0, 0, 0, 0.3));\n",
              "      fill: #FFFFFF;\n",
              "    }\n",
              "  </style>\n",
              "\n",
              "      <script>\n",
              "        const buttonEl =\n",
              "          document.querySelector('#df-c865945e-6caa-4a01-9933-c6632e68a127 button.colab-df-convert');\n",
              "        buttonEl.style.display =\n",
              "          google.colab.kernel.accessAllowed ? 'block' : 'none';\n",
              "\n",
              "        async function convertToInteractive(key) {\n",
              "          const element = document.querySelector('#df-c865945e-6caa-4a01-9933-c6632e68a127');\n",
              "          const dataTable =\n",
              "            await google.colab.kernel.invokeFunction('convertToInteractive',\n",
              "                                                     [key], {});\n",
              "          if (!dataTable) return;\n",
              "\n",
              "          const docLinkHtml = 'Like what you see? Visit the ' +\n",
              "            '<a target=\"_blank\" href=https://colab.research.google.com/notebooks/data_table.ipynb>data table notebook</a>'\n",
              "            + ' to learn more about interactive tables.';\n",
              "          element.innerHTML = '';\n",
              "          dataTable['output_type'] = 'display_data';\n",
              "          await google.colab.output.renderOutput(dataTable, element);\n",
              "          const docLink = document.createElement('div');\n",
              "          docLink.innerHTML = docLinkHtml;\n",
              "          element.appendChild(docLink);\n",
              "        }\n",
              "      </script>\n",
              "    </div>\n",
              "  </div>\n",
              "  "
            ],
            "text/plain": [
              "                                        headline                                            article\n",
              "count                                      99992                                             100000\n",
              "unique                                     99510                                              99987\n",
              "top     Tech Wrap: यहां जानें आज की 5 बड़ी खबरें  हमारे साझेदार 'अनरियल टाइम्स' की खास व्यंग्यात...\n",
              "freq                                         159                                                  3"
            ]
          },
          "metadata": {},
          "execution_count": 30
        }
      ]
    },
    {
      "cell_type": "code",
      "metadata": {
        "colab": {
          "base_uri": "https://localhost:8080/"
        },
        "id": "LRalcJphYkat",
        "outputId": "ccd5f45d-90d4-4414-f97d-8780db054e99"
      },
      "source": [
        "df.info()"
      ],
      "execution_count": null,
      "outputs": [
        {
          "output_type": "stream",
          "name": "stdout",
          "text": [
            "<class 'pandas.core.frame.DataFrame'>\n",
            "RangeIndex: 100000 entries, 0 to 99999\n",
            "Data columns (total 2 columns):\n",
            " #   Column    Non-Null Count   Dtype \n",
            "---  ------    --------------   ----- \n",
            " 0   headline  99992 non-null   object\n",
            " 1   article   100000 non-null  object\n",
            "dtypes: object(2)\n",
            "memory usage: 1.5+ MB\n"
          ]
        }
      ]
    },
    {
      "cell_type": "code",
      "metadata": {
        "id": "PK_i9wqRYkvn"
      },
      "source": [
        "import re\n",
        "def preprocess_tokenize(text):\n",
        "      # for removing punctuation from sentencesc\n",
        "    text = str(text)\n",
        "    text = re.sub(r'(\\d+)', r'', text)\n",
        "    \n",
        "    text = text.replace('\\n', '')\n",
        "    text = text.replace('\\r', '')\n",
        "    text = text.replace('\\t', '')\n",
        "    text = text.replace('\\u200d', '')\n",
        "    text=re.sub(\"(__+)\", ' ', str(text)).lower()   #remove _ if it occors more than one time consecutively\n",
        "    text=re.sub(\"(--+)\", ' ', str(text)).lower()   #remove - if it occors more than one time consecutively\n",
        "    text=re.sub(\"(~~+)\", ' ', str(text)).lower()   #remove ~ if it occors more than one time consecutively\n",
        "    text=re.sub(\"(\\+\\++)\", ' ', str(text)).lower()   #remove + if it occors more than one time consecutively\n",
        "    text=re.sub(\"(\\.\\.+)\", ' ', str(text)).lower()   #remove . if it occors more than one time consecutively\n",
        "        \n",
        "    text=re.sub(r\"[<>()|&©@#ø\\[\\]\\'\\\",;:?.~*!]\", ' ', str(text)).lower() #remove <>()|&©\n",
        "    text = re.sub(\"([a-zA-Z])\",' ',str(text)).lower()\n",
        "    text = re.sub(\"(\\s+)\",' ',str(text)).lower()\n",
        "    #text = text.split(' ')\n",
        "    #text = [x for x in text if(x!='')]\n",
        "    #text.insert(0,'<sos>')\n",
        "    #text.insert(len(text),'<eos>')\n",
        "    return text\n",
        "  "
      ],
      "execution_count": null,
      "outputs": []
    },
    {
      "cell_type": "code",
      "metadata": {
        "colab": {
          "base_uri": "https://localhost:8080/"
        },
        "id": "LXp3ZerOCTQZ",
        "outputId": "1dd3b1bb-f027-4e9d-bff5-283762e18b65"
      },
      "source": [
        "print(preprocess_tokenize('''वहीं दूसरी ओर समीर वानखेड़े की पत्नी क्रांति रेडकर ने अपनी शादी, पूजा और अन्य कार्यक्रमों की तस्वीरें पोस्ट कर कहा है कि समीर वानखेड़े हिंदू परंपराओं को मानते हैं.\n",
        "\n",
        "इन मामलों की सुनवाई बांबे हाईकोर्ट में भी हो रही है. ऐसे में सवाल यही है कि नवाब मलिक और क्रांति रेडकर लगातार सोशल मीडिया प्लेटफ़ॉर्म पर सबूत क्यों पेश कर रहे हैं जबकि मामला अदालत में विचाराधीन है?\n",
        "\n",
        "नवाब मलिक बार-बार यह दावा क्यों कर रहे हैं कि समीर वानखेड़े मुसलमान हैं? मलिक इससे वास्तव में क्या हासिल करना चाहते हैं? समीर वानखेड़े के मुसलमान साबित होने पर क्या परिणाम होंगे?\n",
        "\n",
        "इस स्टोरी में इन्हीं सवालों के जवाब तलाशने की कोशिश की गई है.'''))"
      ],
      "execution_count": null,
      "outputs": [
        {
          "output_type": "stream",
          "name": "stdout",
          "text": [
            "वहीं दूसरी ओर समीर वानखेड़े की पत्नी क्रांति रेडकर ने अपनी शादी पूजा और अन्य कार्यक्रमों की तस्वीरें पोस्ट कर कहा है कि समीर वानखेड़े हिंदू परंपराओं को मानते हैं इन मामलों की सुनवाई बांबे हाईकोर्ट में भी हो रही है ऐसे में सवाल यही है कि नवाब मलिक और क्रांति रेडकर लगातार सोशल मीडिया प्लेटफ़ॉर्म पर सबूत क्यों पेश कर रहे हैं जबकि मामला अदालत में विचाराधीन है नवाब मलिक बार-बार यह दावा क्यों कर रहे हैं कि समीर वानखेड़े मुसलमान हैं मलिक इससे वास्तव में क्या हासिल करना चाहते हैं समीर वानखेड़े के मुसलमान साबित होने पर क्या परिणाम होंगे इस स्टोरी में इन्हीं सवालों के जवाब तलाशने की कोशिश की गई है \n"
          ]
        }
      ]
    },
    {
      "cell_type": "code",
      "metadata": {
        "id": "zvcgDJZUY3-b"
      },
      "source": [
        "import pandas as pd\n",
        "import torch\n",
        "import random\n",
        "import numpy as np"
      ],
      "execution_count": null,
      "outputs": []
    },
    {
      "cell_type": "code",
      "metadata": {
        "colab": {
          "base_uri": "https://localhost:8080/"
        },
        "id": "SmSHae13Y6e2",
        "outputId": "1ec3aebf-70f4-4a40-e5a4-70b93b66b6d7"
      },
      "source": [
        "device = torch.device('cuda' if torch.cuda.is_available() else 'cpu')\n",
        "print(device)"
      ],
      "execution_count": null,
      "outputs": [
        {
          "output_type": "stream",
          "name": "stdout",
          "text": [
            "cuda\n"
          ]
        }
      ]
    },
    {
      "cell_type": "code",
      "metadata": {
        "id": "RJu-8lrIY83h"
      },
      "source": [
        "train_data_src = df['headline']\n",
        "train_data_trg = df['article']"
      ],
      "execution_count": null,
      "outputs": []
    },
    {
      "cell_type": "code",
      "metadata": {
        "id": "4TL6rWNFY88N"
      },
      "source": [
        "tokenized_corpus_src = [preprocess_tokenize(x) for x in train_data_src]  #these are headlines\n",
        "tokenized_corpus_trg = [preprocess_tokenize(x) for x in train_data_trg] # these are articles\n"
      ],
      "execution_count": null,
      "outputs": []
    },
    {
      "cell_type": "code",
      "metadata": {
        "colab": {
          "base_uri": "https://localhost:8080/",
          "height": 281
        },
        "id": "8Pq_6ulMY8--",
        "outputId": "37620d14-8a02-45fd-f7e0-f06849465b56"
      },
      "source": [
        "import matplotlib.pyplot as plt\n",
        "\n",
        "text_word_count = []\n",
        "summary_word_count = []\n",
        "\n",
        "# populate the lists with sentence lengths\n",
        "for i in tokenized_corpus_trg:\n",
        "      text_word_count.append(len(i.split()))\n",
        "\n",
        "for i in tokenized_corpus_src:\n",
        "      summary_word_count.append(len(i.split()))\n",
        "\n",
        "length_df = pd.DataFrame({'text':text_word_count, 'summary':summary_word_count})\n",
        "\n",
        "length_df.hist(bins = 30)\n",
        "plt.show()"
      ],
      "execution_count": null,
      "outputs": [
        {
          "output_type": "display_data",
          "data": {
            "image/png": "[encoded data removed]",
            "text/plain": [
              "<Figure size 432x288 with 2 Axes>"
            ]
          },
          "metadata": {
            "needs_background": "light"
          }
        }
      ]
    },
    {
      "cell_type": "code",
      "metadata": {
        "colab": {
          "base_uri": "https://localhost:8080/"
        },
        "id": "F8TUdyNXY9BR",
        "outputId": "6a9934f4-acfa-4fc9-ccbc-4cb522cc1bc4"
      },
      "source": [
        "df['Text_Cleaned'] = tokenized_corpus_trg  \n",
        "print(\"::::: Text_Cleaned :::::\")\n",
        "print(df['Text_Cleaned'][0:5], \"\\n\")\n",
        "\n",
        "\n",
        "df['Summary_Cleaned'] =  tokenized_corpus_src \n",
        "print(\"::::: Summary :::::\")\n",
        "print(df['Summary_Cleaned'][0:5], \"\\n\")\n",
        "\n",
        "corpus = list(df['Text_Cleaned'])"
      ],
      "execution_count": null,
      "outputs": [
        {
          "output_type": "stream",
          "name": "stdout",
          "text": [
            "::::: Text_Cleaned :::::\n",
            "0    दिल्ली में सुप्रीम कोर्ट के डीज़ल टैक्सियों को...\n",
            "1    जॉर्डन के ऐतिहासिक दौरे पर पहुंचे राष्ट्रपति प...\n",
            "2    पाकिस्तानी नेताओं को विवादित और हास्यास्पद बया...\n",
            "3    पीएम नरेंद्र मोदी बायोपिक में विवेक ओबेरॉय ने ...\n",
            "4    देश दुनिया महानगर खेल आर्थिक और बॉलीवुड में क्...\n",
            "Name: Text_Cleaned, dtype: object \n",
            "\n",
            "::::: Summary :::::\n",
            "0     दिल्ली में डीजल टैक्सियों पर बैन से मुश्किल म...\n",
            "1    जॉर्डन राष्ट्रपति मुखर्जी ने करोड़ डॉलर के संय...\n",
            "2     में पाकिस्तान की राजदूत मलीहा लोधी ने कराई फज...\n",
            "3     देशों में पीएम नरेंद्र मोदी बायोपिक को रिलीज ...\n",
            "4                      अगस्त दिनभर की बड़ी खबरें पढ़ें\n",
            "Name: Summary_Cleaned, dtype: object \n",
            "\n"
          ]
        }
      ]
    },
    {
      "cell_type": "code",
      "metadata": {
        "colab": {
          "base_uri": "https://localhost:8080/"
        },
        "id": "FP1uwwn8Y9EQ",
        "outputId": "abc2b970-5dba-4d38-a11c-d95bfb820df6"
      },
      "source": [
        "print(df['Text_Cleaned'][0])"
      ],
      "execution_count": null,
      "outputs": [
        {
          "output_type": "stream",
          "name": "stdout",
          "text": [
            "दिल्ली में सुप्रीम कोर्ट के डीज़ल टैक्सियों को बंद करने के फैसले के बाद हजारों टैक्सी ड्राइवरों की रोजी रोटी पर तो असर पड़ा ही है लेकिन अब दिल्ली पर एक और नई मुसीबत आ गई है चुनाव आयोग राजधानी के वार्ड में उपचुनाव करवा रहा है लेकिन चुनावों से दो हफ्ते पहले चुनाव आयोग में कामकाज ठप्प हो गया है कमीशन ने किराए पर ली थी डीजल गाड़ियांदरअसल कमीशन ने लगभग सौ गाड़ियां चुनाव के कामकाज को करने के लिए किराए पर लीं जिनमें सभीडीज़ल से चलने वाली टैक्सीथी इन्हीं टैक्सियों से चुनाव अधिकारी से लेकर चुनावों का जिम्मा संभालने वाले बाकी कर्मचारी भी एक जगह से दूसरी जगह आते जाते थे अचानक चुनावों से ठीक पहले आई इस परेशानी ने दिल्ली चुनाव आयोग का कामकाज ही ठप्प कर दिया है रियायत के लिए की जा सकती है मांगदिल्ली के राज्य चुनाव अधिकारी राकेश मेहता ने इस मुश्किल का रास्ता निकालने के लिए मंगलवार को दिल्ली के पुलिस कमिश्नर और ट्रांसपोर्ट कमिश्नर की बैठक बुलाई है इस बैठक में राज्य चुनाव आयुक्त मई को होने वाले चुनावों को लेकरगाड़ियों की उपलब्धताको लेकर पुलिस और सरकार से समाधान निकालने के लिए भी कहेंगे चुनाव आयोग इन दोनों एजेंसियों को कह सकता है कि चूंकि चुनाव में अब दो हफ्ते का भी वक्त नहीं बचा है ऐसे में इन गाड़ियों को बैन से रियायत दी जाए \n"
          ]
        }
      ]
    },
    {
      "cell_type": "code",
      "metadata": {
        "colab": {
          "base_uri": "https://localhost:8080/"
        },
        "id": "GgJorzM0Y9G8",
        "outputId": "e37cb9ab-9107-46c1-bdb6-91d2bcf9533f"
      },
      "source": [
        "print(df['Summary_Cleaned'][0])"
      ],
      "execution_count": null,
      "outputs": [
        {
          "output_type": "stream",
          "name": "stdout",
          "text": [
            " दिल्ली में डीजल टैक्सियों पर बैन से मुश्किल में पड़ा चुनाव आयोग\n"
          ]
        }
      ]
    },
    {
      "cell_type": "code",
      "metadata": {
        "id": "wFeJs74dY9Je"
      },
      "source": [
        "text_count = []\n",
        "summary_count = []\n",
        "\n",
        "for sent in df['Text_Cleaned']:\n",
        "    text_count.append(len(sent.split()))\n",
        "for sent in df['Summary_Cleaned']:\n",
        "    summary_count.append(len(sent.split()))\n",
        "\n",
        "graph_df = pd.DataFrame()\n",
        "graph_df['text'] = text_count\n",
        "graph_df['summary'] = summary_count"
      ],
      "execution_count": null,
      "outputs": []
    },
    {
      "cell_type": "code",
      "metadata": {
        "colab": {
          "base_uri": "https://localhost:8080/"
        },
        "id": "e4hLXP3vY9Md",
        "outputId": "ffa47271-a5b7-43bb-95a8-f3a3289ad29a"
      },
      "source": [
        "graph_df['text'].describe()"
      ],
      "execution_count": null,
      "outputs": [
        {
          "output_type": "execute_result",
          "data": {
            "text/plain": [
              "count    100000.000000\n",
              "mean        345.238200\n",
              "std         308.739341\n",
              "min           0.000000\n",
              "25%         195.000000\n",
              "50%         280.000000\n",
              "75%         395.000000\n",
              "max        8505.000000\n",
              "Name: text, dtype: float64"
            ]
          },
          "metadata": {},
          "execution_count": 20
        }
      ]
    },
    {
      "cell_type": "code",
      "metadata": {
        "colab": {
          "base_uri": "https://localhost:8080/"
        },
        "id": "Cv4dzDy9Y9Pt",
        "outputId": "8ea67cef-34e1-4643-88cd-0d4b4918306c"
      },
      "source": [
        "graph_df['summary'].describe()"
      ],
      "execution_count": null,
      "outputs": [
        {
          "output_type": "execute_result",
          "data": {
            "text/plain": [
              "count    100000.00000\n",
              "mean         10.84903\n",
              "std           2.97927\n",
              "min           0.00000\n",
              "25%           9.00000\n",
              "50%          11.00000\n",
              "75%          13.00000\n",
              "max          22.00000\n",
              "Name: summary, dtype: float64"
            ]
          },
          "metadata": {},
          "execution_count": 21
        }
      ]
    },
    {
      "cell_type": "code",
      "metadata": {
        "colab": {
          "base_uri": "https://localhost:8080/",
          "height": 265
        },
        "id": "kFrgrp3JZmWR",
        "outputId": "f0a28135-57a2-4e32-b588-8ce084b7bacd"
      },
      "source": [
        "graph_df['text'].hist(bins = 25, range=(0, 300))\n",
        "plt.show()"
      ],
      "execution_count": null,
      "outputs": [
        {
          "output_type": "display_data",
          "data": {
            "image/png": "[encoded data removed]",
            "text/plain": [
              "<Figure size 432x288 with 1 Axes>"
            ]
          },
          "metadata": {
            "needs_background": "light"
          }
        }
      ]
    },
    {
      "cell_type": "code",
      "metadata": {
        "colab": {
          "base_uri": "https://localhost:8080/",
          "height": 265
        },
        "id": "l9PmCohdZmY0",
        "outputId": "b7239e60-22fd-4884-ccfb-bc6c0f4e4862"
      },
      "source": [
        "graph_df['summary'].hist(bins = 15, range=(0, 20))\n",
        "plt.show()"
      ],
      "execution_count": null,
      "outputs": [
        {
          "output_type": "display_data",
          "data": {
            "image/png": "[encoded data removed]",
            "text/plain": [
              "<Figure size 432x288 with 1 Axes>"
            ]
          },
          "metadata": {
            "needs_background": "light"
          }
        }
      ]
    },
    {
      "cell_type": "code",
      "metadata": {
        "colab": {
          "base_uri": "https://localhost:8080/"
        },
        "id": "SPH1jO3kZmbf",
        "outputId": "289a1259-e844-48ec-dc24-956df3f756a1"
      },
      "source": [
        "count = 0\n",
        "for i in graph_df['text']:\n",
        "    if i > 10 and i <= 300:\n",
        "        count = count + 1\n",
        "print(count / len(graph_df['text']))"
      ],
      "execution_count": null,
      "outputs": [
        {
          "output_type": "stream",
          "name": "stdout",
          "text": [
            "0.55835\n"
          ]
        }
      ]
    },
    {
      "cell_type": "code",
      "metadata": {
        "colab": {
          "base_uri": "https://localhost:8080/"
        },
        "id": "3FuWvtuIZmdH",
        "outputId": "4ea5a87b-4a0a-4697-825b-51cfbfeae4a8"
      },
      "source": [
        "count = 0\n",
        "for i in graph_df['summary']:\n",
        "    if i > 1 and i <= 16:\n",
        "        count = count + 1\n",
        "print(count / len(graph_df['summary']))"
      ],
      "execution_count": null,
      "outputs": [
        {
          "output_type": "stream",
          "name": "stdout",
          "text": [
            "0.97472\n"
          ]
        }
      ]
    },
    {
      "cell_type": "code",
      "metadata": {
        "id": "LBqp4q-kZmfn"
      },
      "source": [
        "max_text_len = 300\n",
        "max_summary_len = 16"
      ],
      "execution_count": null,
      "outputs": []
    },
    {
      "cell_type": "code",
      "metadata": {
        "id": "XW-Ipq8xZmiK"
      },
      "source": [
        "cleaned_text = np.array(df['Text_Cleaned'])\n",
        "cleaned_summary = np.array(df['Summary_Cleaned'])\n",
        "\n",
        "short_text = []\n",
        "short_summary = []\n",
        "\n",
        "for i in range(len(cleaned_text)):\n",
        "    if(len(cleaned_summary[i].split()) <= max_summary_len \n",
        "       and len(cleaned_summary[i].split()) > 1 \n",
        "       and len(cleaned_text[i].split()) <= max_text_len ):\n",
        "        short_text.append(cleaned_text[i])\n",
        "        short_summary.append(cleaned_summary[i])\n",
        "        \n",
        "post_pre = pd.DataFrame({'text':short_text,'summary':short_summary})"
      ],
      "execution_count": null,
      "outputs": []
    },
    {
      "cell_type": "code",
      "metadata": {
        "id": "4eilbDiEZml2"
      },
      "source": [
        "post_pre['summary'] = post_pre['summary'].apply(lambda x : 'sostok '+ x + ' eostok')"
      ],
      "execution_count": null,
      "outputs": []
    },
    {
      "cell_type": "code",
      "metadata": {
        "colab": {
          "base_uri": "https://localhost:8080/"
        },
        "id": "Riba20yEZmxS",
        "outputId": "b993d006-3aee-4921-9a44-1b7612dcb959"
      },
      "source": [
        "post_pre.shape"
      ],
      "execution_count": null,
      "outputs": [
        {
          "output_type": "execute_result",
          "data": {
            "text/plain": [
              "(54952, 2)"
            ]
          },
          "metadata": {},
          "execution_count": 29
        }
      ]
    },
    {
      "cell_type": "code",
      "metadata": {
        "colab": {
          "base_uri": "https://localhost:8080/",
          "height": 423
        },
        "id": "1LOhX9Z7ZnAh",
        "outputId": "c5d256fb-6f79-4e11-9289-1520a5eeded7"
      },
      "source": [
        "post_pre"
      ],
      "execution_count": null,
      "outputs": [
        {
          "output_type": "execute_result",
          "data": {
            "text/html": [
              "<div>\n",
              "<style scoped>\n",
              "    .dataframe tbody tr th:only-of-type {\n",
              "        vertical-align: middle;\n",
              "    }\n",
              "\n",
              "    .dataframe tbody tr th {\n",
              "        vertical-align: top;\n",
              "    }\n",
              "\n",
              "    .dataframe thead th {\n",
              "        text-align: right;\n",
              "    }\n",
              "</style>\n",
              "<table border=\"1\" class=\"dataframe\">\n",
              "  <thead>\n",
              "    <tr style=\"text-align: right;\">\n",
              "      <th></th>\n",
              "      <th>text</th>\n",
              "      <th>summary</th>\n",
              "    </tr>\n",
              "  </thead>\n",
              "  <tbody>\n",
              "    <tr>\n",
              "      <th>0</th>\n",
              "      <td>दिल्ली में सुप्रीम कोर्ट के डीज़ल टैक्सियों को...</td>\n",
              "      <td>sostok  दिल्ली में डीजल टैक्सियों पर बैन से मु...</td>\n",
              "    </tr>\n",
              "    <tr>\n",
              "      <th>1</th>\n",
              "      <td>पाकिस्तानी नेताओं को विवादित और हास्यास्पद बया...</td>\n",
              "      <td>sostok  में पाकिस्तान की राजदूत मलीहा लोधी ने ...</td>\n",
              "    </tr>\n",
              "    <tr>\n",
              "      <th>2</th>\n",
              "      <td>पाकिस्तान के तेज गेंदबाजहसन अलीने कहा किएशिया ...</td>\n",
              "      <td>sostok एशिया कप से पहले बोला बॉलर- हार के बाद ...</td>\n",
              "    </tr>\n",
              "    <tr>\n",
              "      <th>3</th>\n",
              "      <td>महाराष्ट्र के अहमदनगर एमआईडीसी में फोर्ट शोरूम...</td>\n",
              "      <td>sostok शोरूम मालिक से करोड़ की फिरौती मांगा सा...</td>\n",
              "    </tr>\n",
              "    <tr>\n",
              "      <th>4</th>\n",
              "      <td>आपने शानदार पार्टी के साथ का आगाज तो कर लिया ह...</td>\n",
              "      <td>sostok  जानें- इस साल कब-कब होंगे ड्राई-डे देख...</td>\n",
              "    </tr>\n",
              "    <tr>\n",
              "      <th>...</th>\n",
              "      <td>...</td>\n",
              "      <td>...</td>\n",
              "    </tr>\n",
              "    <tr>\n",
              "      <th>54947</th>\n",
              "      <td>कई लोग ऑफिस में काम के अधिक प्रेशर और जल्दी का...</td>\n",
              "      <td>sostok लंबे समय तक बैठे रहते हैं सेहत को होगा ...</td>\n",
              "    </tr>\n",
              "    <tr>\n",
              "      <th>54948</th>\n",
              "      <td>जाने-माने कॉमेडियन कपिल शर्मा के आने वाले शो क...</td>\n",
              "      <td>sostok  द कपिल शर्मा शो के प्रोमो को अब तक देख...</td>\n",
              "    </tr>\n",
              "    <tr>\n",
              "      <th>54949</th>\n",
              "      <td>टीवी टीआरपी पर टॉप पर रहने वाले शो कुंडली भाग्...</td>\n",
              "      <td>sostok टॉवल डांस कर रही थी कुंडली भाग्य की एक्...</td>\n",
              "    </tr>\n",
              "    <tr>\n",
              "      <th>54950</th>\n",
              "      <td>दिल्ली के द्वारका सेक्टर- इलाके में संदिग्ध हा...</td>\n",
              "      <td>sostok दिल्ली में संदिग्ध हालत में मिली लड़की ...</td>\n",
              "    </tr>\n",
              "    <tr>\n",
              "      <th>54951</th>\n",
              "      <td>अमेरिका ने म्यांमार पर लगे व्यापारिक प्रतिबंधो...</td>\n",
              "      <td>sostok अमेरिका ने म्यांमार पर प्रतिबंधों की अव...</td>\n",
              "    </tr>\n",
              "  </tbody>\n",
              "</table>\n",
              "<p>54952 rows × 2 columns</p>\n",
              "</div>"
            ],
            "text/plain": [
              "                                                    text                                            summary\n",
              "0      दिल्ली में सुप्रीम कोर्ट के डीज़ल टैक्सियों को...  sostok  दिल्ली में डीजल टैक्सियों पर बैन से मु...\n",
              "1      पाकिस्तानी नेताओं को विवादित और हास्यास्पद बया...  sostok  में पाकिस्तान की राजदूत मलीहा लोधी ने ...\n",
              "2      पाकिस्तान के तेज गेंदबाजहसन अलीने कहा किएशिया ...  sostok एशिया कप से पहले बोला बॉलर- हार के बाद ...\n",
              "3      महाराष्ट्र के अहमदनगर एमआईडीसी में फोर्ट शोरूम...  sostok शोरूम मालिक से करोड़ की फिरौती मांगा सा...\n",
              "4      आपने शानदार पार्टी के साथ का आगाज तो कर लिया ह...  sostok  जानें- इस साल कब-कब होंगे ड्राई-डे देख...\n",
              "...                                                  ...                                                ...\n",
              "54947  कई लोग ऑफिस में काम के अधिक प्रेशर और जल्दी का...  sostok लंबे समय तक बैठे रहते हैं सेहत को होगा ...\n",
              "54948  जाने-माने कॉमेडियन कपिल शर्मा के आने वाले शो क...  sostok  द कपिल शर्मा शो के प्रोमो को अब तक देख...\n",
              "54949  टीवी टीआरपी पर टॉप पर रहने वाले शो कुंडली भाग्...  sostok टॉवल डांस कर रही थी कुंडली भाग्य की एक्...\n",
              "54950  दिल्ली के द्वारका सेक्टर- इलाके में संदिग्ध हा...  sostok दिल्ली में संदिग्ध हालत में मिली लड़की ...\n",
              "54951  अमेरिका ने म्यांमार पर लगे व्यापारिक प्रतिबंधो...  sostok अमेरिका ने म्यांमार पर प्रतिबंधों की अव...\n",
              "\n",
              "[54952 rows x 2 columns]"
            ]
          },
          "metadata": {},
          "execution_count": 30
        }
      ]
    },
    {
      "cell_type": "code",
      "metadata": {
        "id": "aLOjEMa7ZnCr"
      },
      "source": [
        "from sklearn.model_selection import train_test_split\n",
        "from keras.preprocessing.text import Tokenizer \n",
        "from keras.preprocessing.sequence import pad_sequences\n",
        "\n",
        "# train test split\n",
        "x_tr,x_test,y_tr,y_test = train_test_split(np.array(post_pre['text']),\n",
        "                                         np.array(post_pre['summary']),\n",
        "                                         test_size = 0.2,\n",
        "                                         random_state = 0,\n",
        "                                         shuffle = True)\n",
        "# train validation split\n",
        "x_tr,x_val,y_tr,y_val = train_test_split(x_tr,\n",
        "                                         y_tr,\n",
        "                                         test_size = 0.2,\n",
        "                                         random_state = 0,\n",
        "                                         shuffle = True)"
      ],
      "execution_count": null,
      "outputs": []
    },
    {
      "cell_type": "code",
      "metadata": {
        "colab": {
          "base_uri": "https://localhost:8080/"
        },
        "id": "2bDNY365ZnGy",
        "outputId": "c3e28ebe-7b99-4873-b3a4-b6fd738fec28"
      },
      "source": [
        "x_tr.shape"
      ],
      "execution_count": null,
      "outputs": [
        {
          "output_type": "execute_result",
          "data": {
            "text/plain": [
              "(35168,)"
            ]
          },
          "metadata": {},
          "execution_count": 32
        }
      ]
    },
    {
      "cell_type": "code",
      "metadata": {
        "colab": {
          "base_uri": "https://localhost:8080/"
        },
        "id": "Xrejjr3haSV-",
        "outputId": "84f6115c-66e8-4ea7-c61c-234843051ff4"
      },
      "source": [
        "x_test.shape"
      ],
      "execution_count": null,
      "outputs": [
        {
          "output_type": "execute_result",
          "data": {
            "text/plain": [
              "(10991,)"
            ]
          },
          "metadata": {},
          "execution_count": 33
        }
      ]
    },
    {
      "cell_type": "code",
      "metadata": {
        "colab": {
          "base_uri": "https://localhost:8080/"
        },
        "id": "vsmVCp8taUIx",
        "outputId": "070ae285-a101-4f02-bea4-645427389b04"
      },
      "source": [
        "x_val.shape"
      ],
      "execution_count": null,
      "outputs": [
        {
          "output_type": "execute_result",
          "data": {
            "text/plain": [
              "(8793,)"
            ]
          },
          "metadata": {},
          "execution_count": 34
        }
      ]
    },
    {
      "cell_type": "code",
      "metadata": {
        "id": "ZTzb767BadPZ"
      },
      "source": [
        "# Tokenize text to get the vocab count\n",
        "#prepare a tokenizer for training data\n",
        "x_tokenizer = Tokenizer() \n",
        "\n",
        "x_tokenizer.fit_on_texts(list(x_tr))\n",
        "\n",
        "\n",
        "#prepare a tokenizer for reviews on training data\n",
        "y_tokenizer = Tokenizer()   \n",
        "y_tokenizer.fit_on_texts(list(y_tr))"
      ],
      "execution_count": null,
      "outputs": []
    },
    {
      "cell_type": "code",
      "metadata": {
        "id": "13MhAqDralVs",
        "colab": {
          "base_uri": "https://localhost:8080/"
        },
        "outputId": "56f12af3-64dd-4715-e900-1ae842b4c77a"
      },
      "source": [
        "#one-hot representation\n",
        "\n",
        "thresh=4\n",
        "cnt=0\n",
        "tot_cnt=0\n",
        "freq=0\n",
        "tot_freq=0\n",
        "\n",
        "for key,value in x_tokenizer.word_counts.items():\n",
        "    tot_cnt=tot_cnt+1\n",
        "    tot_freq=tot_freq+value\n",
        "    if(value<thresh):\n",
        "        cnt=cnt+1\n",
        "        freq=freq+value\n",
        "        \n",
        "    \n",
        "print(\"% of rare words in vocabulary:\",(cnt/tot_cnt)*100)\n",
        "print(\"Total Coverage of rare words:\",(freq/tot_freq)*100)"
      ],
      "execution_count": null,
      "outputs": [
        {
          "output_type": "stream",
          "name": "stdout",
          "text": [
            "% of rare words in vocabulary: 77.17079038460308\n",
            "Total Coverage of rare words: 2.1891748297952827\n"
          ]
        }
      ]
    },
    {
      "cell_type": "code",
      "metadata": {
        "id": "wFTDkNvDalYY"
      },
      "source": [
        "import numpy as np\n",
        "import pandas as pd\n",
        "import seaborn as sns\n",
        "import matplotlib.pyplot as plt\n",
        "from time import time"
      ],
      "execution_count": null,
      "outputs": []
    },
    {
      "cell_type": "code",
      "metadata": {
        "colab": {
          "base_uri": "https://localhost:8080/"
        },
        "id": "Z9qDIfP9albC",
        "outputId": "4c3a5dac-7dc5-4c54-b3e6-a0396cc29366"
      },
      "source": [
        "\n",
        "#prepare a tokenizer for reviews on training data\n",
        "x_tokenizer = Tokenizer(num_words = tot_cnt - cnt) \n",
        "x_tokenizer.fit_on_texts(list(x_tr))\n",
        "\n",
        "#convert text sequences into integer sequences (i.e one-hot encodeing all the words)\n",
        "x_tr_seq    =   x_tokenizer.texts_to_sequences(x_tr) \n",
        "x_val_seq   =   x_tokenizer.texts_to_sequences(x_val)\n",
        "x_test_seq = x_tokenizer.texts_to_sequences(x_test)\n",
        "\n",
        "#padding zero upto maximum length\n",
        "x_tr    =   pad_sequences(x_tr_seq,  maxlen=max_text_len, padding='post')\n",
        "x_val   =   pad_sequences(x_val_seq, maxlen=max_text_len, padding='post')\n",
        "x_test = pad_sequences(x_test_seq, maxlen=max_text_len, padding='post')\n",
        "\n",
        "#size of vocabulary ( +1 for padding token)\n",
        "x_voc   =  x_tokenizer.num_words + 1\n",
        "\n",
        "print(\"Size of vocabulary in X = {}\".format(x_voc))"
      ],
      "execution_count": null,
      "outputs": [
        {
          "output_type": "stream",
          "name": "stdout",
          "text": [
            "Size of vocabulary in X = 35681\n"
          ]
        }
      ]
    },
    {
      "cell_type": "code",
      "metadata": {
        "colab": {
          "base_uri": "https://localhost:8080/"
        },
        "id": "32I-ktifa-Am",
        "outputId": "5688edfe-1d0a-4617-b1c7-f3be96c6b897"
      },
      "source": [
        "thresh=6\n",
        "\n",
        "cnt=0\n",
        "tot_cnt=0\n",
        "freq=0\n",
        "tot_freq=0\n",
        "\n",
        "for key,value in y_tokenizer.word_counts.items():\n",
        "    tot_cnt=tot_cnt+1\n",
        "    tot_freq=tot_freq+value\n",
        "    if(value<thresh):\n",
        "        cnt=cnt+1\n",
        "        freq=freq+value\n",
        "    \n",
        "print(\"% of rare words in vocabulary:\",(cnt/tot_cnt)*100)\n",
        "print(\"Total Coverage of rare words:\",(freq/tot_freq)*100)"
      ],
      "execution_count": null,
      "outputs": [
        {
          "output_type": "stream",
          "name": "stdout",
          "text": [
            "% of rare words in vocabulary: 73.40125457836905\n",
            "Total Coverage of rare words: 7.2548202671110795\n"
          ]
        }
      ]
    },
    {
      "cell_type": "code",
      "metadata": {
        "colab": {
          "base_uri": "https://localhost:8080/"
        },
        "id": "-HaEXmWKbC0E",
        "outputId": "32a2a4aa-8014-48f5-e72a-6e54d2d5ea91"
      },
      "source": [
        "#prepare a tokenizer for reviews on training data\n",
        "y_tokenizer = Tokenizer(num_words = tot_cnt-cnt) \n",
        "y_tokenizer.fit_on_texts(list(y_tr))\n",
        "\n",
        "#convert text sequences into integer sequences (i.e one hot encode the text in Y)\n",
        "y_tr_seq    =   y_tokenizer.texts_to_sequences(y_tr) \n",
        "y_val_seq   =   y_tokenizer.texts_to_sequences(y_val) \n",
        "y_test_seq = y_tokenizer.texts_to_sequences(y_test) \n",
        "\n",
        "#padding zero upto maximum length\n",
        "y_tr    =   pad_sequences(y_tr_seq, maxlen=max_summary_len, padding='post')\n",
        "y_val   =   pad_sequences(y_val_seq, maxlen=max_summary_len, padding='post')\n",
        "y_test = pad_sequences(y_test_seq, maxlen=max_summary_len, padding='post')\n",
        "\n",
        "#size of vocabulary\n",
        "y_voc  =   y_tokenizer.num_words +1\n",
        "print(\"Size of vocabulary in Y = {}\".format(y_voc))"
      ],
      "execution_count": null,
      "outputs": [
        {
          "output_type": "stream",
          "name": "stdout",
          "text": [
            "Size of vocabulary in Y = 6319\n"
          ]
        }
      ]
    },
    {
      "cell_type": "code",
      "metadata": {
        "colab": {
          "base_uri": "https://localhost:8080/"
        },
        "id": "RmXqF8-2bHtF",
        "outputId": "abbd5d34-b212-4495-86c4-9432ef4e234e"
      },
      "source": [
        "y_tokenizer.word_counts['sostok'],len(y_tr)"
      ],
      "execution_count": null,
      "outputs": [
        {
          "output_type": "execute_result",
          "data": {
            "text/plain": [
              "(35168, 35168)"
            ]
          },
          "metadata": {},
          "execution_count": 41
        }
      ]
    },
    {
      "cell_type": "code",
      "metadata": {
        "id": "TEeu6C_naleY"
      },
      "source": [
        "from tensorflow.keras.backend import clear_session\n",
        "import tensorflow as tf\n",
        "import gensim\n",
        "from numpy import *\n",
        "import numpy as np\n",
        "import pandas as pd \n",
        "import re\n",
        "from bs4 import BeautifulSoup\n",
        "from keras.preprocessing.text import Tokenizer \n",
        "from keras.preprocessing.sequence import pad_sequences\n",
        "from nltk.corpus import stopwords\n",
        "from tensorflow.keras.layers import Input, LSTM, Embedding, Dense, Concatenate, TimeDistributed,Bidirectional\n",
        "from tensorflow.keras.models import Model\n",
        "from tensorflow.keras.callbacks import EarlyStopping\n",
        "import warnings\n",
        "warnings.filterwarnings(\"ignore\")"
      ],
      "execution_count": null,
      "outputs": []
    },
    {
      "cell_type": "code",
      "metadata": {
        "colab": {
          "base_uri": "https://localhost:8080/"
        },
        "id": "zIJPfgdiw6ia",
        "outputId": "b8b28f35-c2b3-4f23-9c8b-cdb0672d9d27"
      },
      "source": [
        "y_tr[1]"
      ],
      "execution_count": null,
      "outputs": [
        {
          "output_type": "execute_result",
          "data": {
            "text/plain": [
              "array([   1, 1836,    3, 1204,  302,  318,   10,  454, 2017, 2454,    5,\n",
              "       1627,   95,  162,    2,    0], dtype=int32)"
            ]
          },
          "metadata": {},
          "execution_count": 43
        }
      ]
    },
    {
      "cell_type": "code",
      "metadata": {
        "id": "PqI-q_b5almG"
      },
      "source": [
        "ind=[]\n",
        "for i in range(len(y_tr)):\n",
        "    cnt=0\n",
        "    for j in y_tr[i]:\n",
        "        if j!=0:\n",
        "            cnt=cnt+1\n",
        "    if(cnt==2):\n",
        "        ind.append(i)\n",
        "\n",
        "y_tr=np.delete(y_tr,ind, axis=0)\n",
        "x_tr=np.delete(x_tr,ind, axis=0)\n"
      ],
      "execution_count": null,
      "outputs": []
    },
    {
      "cell_type": "code",
      "metadata": {
        "id": "3VrnZjtjalng"
      },
      "source": [
        "ind=[]\n",
        "for i in range(len(y_val)):\n",
        "    cnt=0\n",
        "    for j in y_val[i]:\n",
        "        if j!=0:\n",
        "            cnt=cnt+1\n",
        "    if(cnt==2):\n",
        "        ind.append(i)\n",
        "\n",
        "y_val=np.delete(y_val,ind, axis=0)\n",
        "x_val=np.delete(x_val,ind, axis=0)"
      ],
      "execution_count": null,
      "outputs": []
    },
    {
      "cell_type": "code",
      "metadata": {
        "colab": {
          "base_uri": "https://localhost:8080/"
        },
        "id": "e2rYt4ahalrB",
        "outputId": "4e4fbb40-02e2-4b1a-b98c-7aa302b4a1fd"
      },
      "source": [
        "print(f\"Size of vocabulary from the w2v model = {x_voc}\")\n",
        "clear_session()\n",
        "\n",
        "latent_dim = 300\n",
        "embedding_dim = 100\n",
        "\n",
        "# Encoder\n",
        "encoder_inputs = Input(shape=(max_text_len,))\n",
        "\n",
        "#embedding layer\n",
        "enc_emb =  Embedding(x_voc, embedding_dim,trainable=True)(encoder_inputs)\n",
        "\n",
        "#encoder lstm 1\n",
        "encoder = Bidirectional(LSTM(latent_dim, return_state=True,return_sequences=True))\n",
        "encoder_outputs, forward_h, forward_c, backward_h, backward_c = encoder(enc_emb)\n",
        "\n",
        "state_h = Concatenate()([forward_h, backward_h])\n",
        "state_c = Concatenate()([forward_c, backward_c])\n",
        "encoder_states = [state_h, state_c]\n",
        "# Set up the decoder, using `encoder_states` as initial state.\n",
        "decoder_inputs = Input(shape=(None,))\n",
        "\n",
        "#embedding layer\n",
        "dec_emb_layer = Embedding(y_voc, embedding_dim,trainable=True)\n",
        "dec_emb = dec_emb_layer(decoder_inputs)\n",
        "\n",
        "decoder_lstm = LSTM(latent_dim*2, return_sequences=True, return_state=True,dropout=0.4,recurrent_dropout=0.2)\n",
        "decoder_outputs,decoder_fwd_state, decoder_back_state = decoder_lstm(dec_emb, initial_state=encoder_states)\n",
        "\n",
        "#dense layer\n",
        "decoder_dense =  TimeDistributed(Dense(y_voc, activation='softmax'))\n",
        "decoder_outputs = decoder_dense(decoder_outputs)\n",
        "\n",
        "# Define the model \n",
        "model = Model([encoder_inputs, decoder_inputs], decoder_outputs)\n",
        "\n",
        "model.summary()"
      ],
      "execution_count": null,
      "outputs": [
        {
          "output_type": "stream",
          "name": "stdout",
          "text": [
            "Size of vocabulary from the w2v model = 35681\n",
            "WARNING:tensorflow:Layer lstm_1 will not use cuDNN kernels since it doesn't meet the criteria. It will use a generic GPU kernel as fallback when running on GPU.\n",
            "Model: \"model\"\n",
            "__________________________________________________________________________________________________\n",
            " Layer (type)                   Output Shape         Param #     Connected to                     \n",
            "==================================================================================================\n",
            " input_1 (InputLayer)           [(None, 300)]        0           []                               \n",
            "                                                                                                  \n",
            " embedding (Embedding)          (None, 300, 100)     3568100     ['input_1[0][0]']                \n",
            "                                                                                                  \n",
            " input_2 (InputLayer)           [(None, None)]       0           []                               \n",
            "                                                                                                  \n",
            " bidirectional (Bidirectional)  [(None, 300, 600),   962400      ['embedding[0][0]']              \n",
            "                                 (None, 300),                                                     \n",
            "                                 (None, 300),                                                     \n",
            "                                 (None, 300),                                                     \n",
            "                                 (None, 300)]                                                     \n",
            "                                                                                                  \n",
            " embedding_1 (Embedding)        (None, None, 100)    631900      ['input_2[0][0]']                \n",
            "                                                                                                  \n",
            " concatenate (Concatenate)      (None, 600)          0           ['bidirectional[0][1]',          \n",
            "                                                                  'bidirectional[0][3]']          \n",
            "                                                                                                  \n",
            " concatenate_1 (Concatenate)    (None, 600)          0           ['bidirectional[0][2]',          \n",
            "                                                                  'bidirectional[0][4]']          \n",
            "                                                                                                  \n",
            " lstm_1 (LSTM)                  [(None, None, 600),  1682400     ['embedding_1[0][0]',            \n",
            "                                 (None, 600),                     'concatenate[0][0]',            \n",
            "                                 (None, 600)]                     'concatenate_1[0][0]']          \n",
            "                                                                                                  \n",
            " time_distributed (TimeDistribu  (None, None, 6319)  3797719     ['lstm_1[0][0]']                 \n",
            " ted)                                                                                             \n",
            "                                                                                                  \n",
            "==================================================================================================\n",
            "Total params: 10,642,519\n",
            "Trainable params: 10,642,519\n",
            "Non-trainable params: 0\n",
            "__________________________________________________________________________________________________\n"
          ]
        }
      ]
    },
    {
      "cell_type": "code",
      "metadata": {
        "colab": {
          "base_uri": "https://localhost:8080/",
          "height": 546
        },
        "id": "VPenO0KVbjBR",
        "outputId": "c57e56d7-0b4b-4fdb-b48b-af9de358eb7b"
      },
      "source": [
        "tf.keras.utils.plot_model(\n",
        "    model, to_file='model.png', show_shapes=True, show_layer_names=True,\n",
        "    rankdir='TB', expand_nested=False, dpi=96\n",
        ")"
      ],
      "execution_count": null,
      "outputs": [
        {
          "output_type": "execute_result",
          "data": {
            "image/png": "[encoded data removed]",
            "text/plain": [
              "<IPython.core.display.Image object>"
            ]
          },
          "metadata": {},
          "execution_count": 47
        }
      ]
    },
    {
      "cell_type": "code",
      "metadata": {
        "id": "saaLnnNBbpOM"
      },
      "source": [
        "model.compile(optimizer='rmsprop', loss='sparse_categorical_crossentropy')\n",
        "\n",
        "es = EarlyStopping(monitor='val_loss', mode='min', verbose=1,patience=2)"
      ],
      "execution_count": null,
      "outputs": []
    },
    {
      "cell_type": "code",
      "metadata": {
        "colab": {
          "base_uri": "https://localhost:8080/"
        },
        "id": "q_roSvE3btEO",
        "outputId": "5c440a20-0e72-4c7d-e018-2cbf9301f44f"
      },
      "source": [
        "history=model.fit([x_tr,y_tr[:,:-1]], y_tr.reshape(y_tr.shape[0],y_tr.shape[1], 1)[:,1:] ,epochs=50,callbacks=[es],batch_size=128, validation_data=([x_val,y_val[:,:-1]], y_val.reshape(y_val.shape[0],y_val.shape[1], 1)[:,1:]))"
      ],
      "execution_count": null,
      "outputs": [
        {
          "output_type": "stream",
          "name": "stdout",
          "text": [
            "Epoch 1/50\n",
            "275/275 [==============================] - 127s 426ms/step - loss: 4.4897 - val_loss: 4.1264\n",
            "Epoch 2/50\n",
            "275/275 [==============================] - 116s 422ms/step - loss: 4.0585 - val_loss: 3.8763\n",
            "Epoch 3/50\n",
            "275/275 [==============================] - 116s 423ms/step - loss: 3.8018 - val_loss: 3.6633\n",
            "Epoch 4/50\n",
            "275/275 [==============================] - 116s 422ms/step - loss: 3.5902 - val_loss: 3.5317\n",
            "Epoch 5/50\n",
            "275/275 [==============================] - 116s 422ms/step - loss: 3.4199 - val_loss: 3.4067\n",
            "Epoch 6/50\n",
            "275/275 [==============================] - 116s 423ms/step - loss: 3.2791 - val_loss: 3.3424\n",
            "Epoch 7/50\n",
            "275/275 [==============================] - 116s 422ms/step - loss: 3.1538 - val_loss: 3.2688\n",
            "Epoch 8/50\n",
            "275/275 [==============================] - 116s 423ms/step - loss: 3.0428 - val_loss: 3.2392\n",
            "Epoch 9/50\n",
            "275/275 [==============================] - 116s 424ms/step - loss: 2.9410 - val_loss: 3.1942\n",
            "Epoch 10/50\n",
            "275/275 [==============================] - 116s 422ms/step - loss: 2.8439 - val_loss: 3.1757\n",
            "Epoch 11/50\n",
            "275/275 [==============================] - 116s 422ms/step - loss: 2.7568 - val_loss: 3.1565\n",
            "Epoch 12/50\n",
            "275/275 [==============================] - 116s 421ms/step - loss: 2.6744 - val_loss: 3.1525\n",
            "Epoch 13/50\n",
            "275/275 [==============================] - 116s 422ms/step - loss: 2.5985 - val_loss: 3.1490\n",
            "Epoch 14/50\n",
            "275/275 [==============================] - 116s 421ms/step - loss: 2.5254 - val_loss: 3.1465\n",
            "Epoch 15/50\n",
            "275/275 [==============================] - 116s 422ms/step - loss: 2.4546 - val_loss: 3.1524\n",
            "Epoch 16/50\n",
            "275/275 [==============================] - 116s 421ms/step - loss: 2.3875 - val_loss: 3.1586\n",
            "Epoch 00016: early stopping\n"
          ]
        }
      ]
    },
    {
      "cell_type": "code",
      "metadata": {
        "colab": {
          "base_uri": "https://localhost:8080/",
          "height": 265
        },
        "id": "3aGyzj-qnpgj",
        "outputId": "9f59f893-9ac4-4536-fada-b5650120ffed"
      },
      "source": [
        "from matplotlib import pyplot\n",
        "pyplot.plot(history.history['loss'], label='train')\n",
        "pyplot.plot(history.history['val_loss'], label='test')\n",
        "pyplot.legend()\n",
        "pyplot.show()"
      ],
      "execution_count": null,
      "outputs": [
        {
          "output_type": "display_data",
          "data": {
            "image/png": "[encoded data removed]",
            "text/plain": [
              "<Figure size 432x288 with 1 Axes>"
            ]
          },
          "metadata": {
            "needs_background": "light"
          }
        }
      ]
    },
    {
      "cell_type": "code",
      "metadata": {
        "id": "bnb6CbLUnvFX"
      },
      "source": [
        "reverse_target_word_index=y_tokenizer.index_word\n",
        "reverse_source_word_index=x_tokenizer.index_word\n",
        "target_word_index=y_tokenizer.word_index\n",
        "\n",
        "# Encode the input sequence to get the feature vector\n",
        "encoder_model = Model(inputs=encoder_inputs,outputs=[encoder_outputs, state_h, state_c])\n",
        "\n",
        "# Decoder setup\n",
        "# Below tensors will hold the states of the previous time step\n",
        "decoder_state_input_h = Input(shape=(latent_dim*2,))\n",
        "decoder_state_input_c = Input(shape=(latent_dim*2,))\n",
        "decoder_hidden_state_input = Input(shape=(max_text_len,latent_dim*2))\n",
        "\n",
        "# Get the embeddings of the decoder sequence\n",
        "dec_emb2= dec_emb_layer(decoder_inputs) \n",
        "# To predict the next word in the sequence, set the initial states to the states from the previous time step\n",
        "decoder_outputs2, state_h2, state_c2 = decoder_lstm(dec_emb2, initial_state=[decoder_state_input_h, decoder_state_input_c])\n",
        "# A dense softmax layer to generate prob dist. over the target vocabulary\n",
        "decoder_outputs2 = decoder_dense(decoder_outputs2) \n",
        "\n",
        "# Final decoder model\n",
        "decoder_model = Model(\n",
        "    [decoder_inputs] + [decoder_hidden_state_input,decoder_state_input_h, decoder_state_input_c],\n",
        "    [decoder_outputs2] + [state_h2, state_c2])\n"
      ],
      "execution_count": null,
      "outputs": []
    },
    {
      "cell_type": "code",
      "metadata": {
        "colab": {
          "base_uri": "https://localhost:8080/"
        },
        "id": "3AW_dDkgukoR",
        "outputId": "4330ba98-662e-4db9-bd71-f4d34960c662"
      },
      "source": [
        "print(reverse_source_word_index)"
      ],
      "execution_count": null,
      "outputs": [
        {
          "output_type": "stream",
          "name": "stderr",
          "text": [
            "IOPub data rate exceeded.\n",
            "The notebook server will temporarily stop sending output\n",
            "to the client in order to avoid crashing it.\n",
            "To change this limit, set the config variable\n",
            "`--NotebookApp.iopub_data_rate_limit`.\n",
            "\n",
            "Current values:\n",
            "NotebookApp.iopub_data_rate_limit=1000000.0 (bytes/sec)\n",
            "NotebookApp.rate_limit_window=3.0 (secs)\n",
            "\n"
          ]
        }
      ]
    },
    {
      "cell_type": "code",
      "metadata": {
        "colab": {
          "base_uri": "https://localhost:8080/"
        },
        "id": "bspavAeDn2tv",
        "outputId": "2258732d-3ddb-4abf-f09e-4e9965a90824"
      },
      "source": [
        "decoder_model.summary()"
      ],
      "execution_count": null,
      "outputs": [
        {
          "output_type": "stream",
          "name": "stdout",
          "text": [
            "Model: \"model_2\"\n",
            "__________________________________________________________________________________________________\n",
            " Layer (type)                   Output Shape         Param #     Connected to                     \n",
            "==================================================================================================\n",
            " input_2 (InputLayer)           [(None, None)]       0           []                               \n",
            "                                                                                                  \n",
            " embedding_1 (Embedding)        (None, None, 100)    631900      ['input_2[0][0]']                \n",
            "                                                                                                  \n",
            " input_3 (InputLayer)           [(None, 600)]        0           []                               \n",
            "                                                                                                  \n",
            " input_4 (InputLayer)           [(None, 600)]        0           []                               \n",
            "                                                                                                  \n",
            " lstm_1 (LSTM)                  [(None, None, 600),  1682400     ['embedding_1[1][0]',            \n",
            "                                 (None, 600),                     'input_3[0][0]',                \n",
            "                                 (None, 600)]                     'input_4[0][0]']                \n",
            "                                                                                                  \n",
            " input_5 (InputLayer)           [(None, 300, 600)]   0           []                               \n",
            "                                                                                                  \n",
            " time_distributed (TimeDistribu  (None, None, 6319)  3797719     ['lstm_1[1][0]']                 \n",
            " ted)                                                                                             \n",
            "                                                                                                  \n",
            "==================================================================================================\n",
            "Total params: 6,112,019\n",
            "Trainable params: 6,112,019\n",
            "Non-trainable params: 0\n",
            "__________________________________________________________________________________________________\n"
          ]
        }
      ]
    },
    {
      "cell_type": "code",
      "metadata": {
        "colab": {
          "base_uri": "https://localhost:8080/",
          "height": 422
        },
        "id": "BNPSVYgxn64a",
        "outputId": "f6cef056-7c9d-4710-a39c-2e2db866541f"
      },
      "source": [
        "tf.keras.utils.plot_model(\n",
        "    decoder_model, to_file='model.png', show_shapes=True, show_layer_names=True,\n",
        "    rankdir='TB', expand_nested=False, dpi=96\n",
        ")"
      ],
      "execution_count": null,
      "outputs": [
        {
          "output_type": "execute_result",
          "data": {
            "image/png": "[encoded data removed]",
            "text/plain": [
              "<IPython.core.display.Image object>"
            ]
          },
          "metadata": {},
          "execution_count": 54
        }
      ]
    },
    {
      "cell_type": "code",
      "metadata": {
        "id": "6enTJbUNn_1e"
      },
      "source": [
        "def decode_sequence(input_seq):\n",
        "    # Encode the input as state vectors.\n",
        "    e_out, e_h, e_c = encoder_model.predict(input_seq)\n",
        "    \n",
        "    # Generate empty target sequence of length 1.\n",
        "    target_seq = np.zeros((1,1))\n",
        "    \n",
        "    # Populate the first word of target sequence with the start word.\n",
        "    target_seq[0, 0] = target_word_index['sostok']\n",
        "\n",
        "    stop_condition = False\n",
        "    decoded_sentence = ''\n",
        "    while not stop_condition:\n",
        "      \n",
        "        output_tokens, h, c = decoder_model.predict([target_seq] + [e_out, e_h, e_c])\n",
        "\n",
        "        # Sample a token\n",
        "        sampled_token_index = np.argmax(output_tokens[0, -1, :])\n",
        "        sampled_token = reverse_target_word_index[sampled_token_index]\n",
        "        \n",
        "        if(sampled_token!='eostok'):\n",
        "            decoded_sentence += ' '+sampled_token\n",
        "        if (sampled_token == 'eostok'  or len(decoded_sentence.split()) >= (max_summary_len-1)):\n",
        "            stop_condition = True\n",
        "\n",
        "        # Update the target sequence (of length 1).\n",
        "        target_seq = np.zeros((1,1))\n",
        "        target_seq[0, 0] = sampled_token_index\n",
        "\n",
        "        # Update internal states\n",
        "        e_h, e_c = h, c\n",
        "\n",
        "    return decoded_sentence"
      ],
      "execution_count": null,
      "outputs": []
    },
    {
      "cell_type": "code",
      "metadata": {
        "id": "L9U5gD1foMyD"
      },
      "source": [
        "def seq2summary(input_seq):\n",
        "    newString=''\n",
        "    for i in input_seq:\n",
        "        if((i!=0 and i!=target_word_index['sostok']) and i!=target_word_index['eostok']):\n",
        "            newString=newString+reverse_target_word_index[i]+' '\n",
        "    return newString\n",
        "\n",
        "def seq2text(input_seq):\n",
        "    newString=''\n",
        "    for i in input_seq:\n",
        "        if(i!=0):\n",
        "            newString=newString+reverse_source_word_index[i]+' '\n",
        "    return newString"
      ],
      "execution_count": null,
      "outputs": []
    },
    {
      "cell_type": "code",
      "metadata": {
        "id": "ZMRMSemRoPWM",
        "colab": {
          "base_uri": "https://localhost:8080/"
        },
        "outputId": "f181e7b5-08b9-46a0-ef28-95efe38a3b98"
      },
      "source": [
        "for i in range(0,10):\n",
        "    print(\"Review:\",seq2text(x_tr[i]))\n",
        "    print(\"Original summary:\",seq2summary(y_tr[i]))\n",
        "    print(\"Predicted summary:\",decode_sequence(x_tr[i].reshape(1,max_text_len)))\n",
        "    print(\"\\n\")"
      ],
      "execution_count": null,
      "outputs": [
        {
          "output_type": "stream",
          "name": "stdout",
          "text": [
            "Review: कुटीर लघु और मध्यम उद्यमों को कर्ज देने के अनोखे तरीके तलाशने के लिए रिजर्व बैंक का पुणे स्थित कृषि बैंकिंग महाविद्यालय बैंकों के लिए एक प्रतियोगिता आयोजित करेगा इस प्रतियोगिता का विषय है केस स्टडी एक एमएसएमई को नए ढंग से कर्ज आबंटन कर्ज देने के नए तरीकों पर केस ने एक सर्कुलर जारी कर कहा प्रतियोगिता आयोजित करने का उद्देश्य बैंकों को ऐसे मामलों का अध्ययन करने के लिए प्रोत्साहित करना है जहां कुटीर लघु और मझोले उद्यमों को अनोखे तरीके से कर्ज दिया गया हो और ऐसे मामलों को लेकर दूसरे बैंकों को भी संवेदनशील बनाया जा सके ये कर्मचारी ले सकते हैं बैंक ने कहा कि बैंकों के कर्मचारी सदस्य जिसमें बैंकों के प्रशिक्षण प्रतिष्ठानों के फैकल्टी सदस्य क्षेत्रीय ग्रामीण बैंकों राज्य सहकारी बैंकों और शहरी सहकारी बैंकोंके सदस्य शामिल हैं इस प्रतियोगिता में हिस्सा ले सकते हैं अंग्रेजी या हिंदी भाषा का अलावा इन बैंकों के प्रशिक्षण प्रतिष्ठानों से फैकल्टी सदस्य और गैर बैंकिंग वित्तीय कंपनियों के कर्मचारी सदस्य भी इस प्रतियोगिता में हिस्सा ले सकते हैं आरबीआई ने स्टडी अंग्रेजी या हिंदी जनवरी तक मांगे हैं \n",
            "Original summary: कर्ज देने के तरीके को आरबीआई प्रतियोगिता कराएगा \n",
            "Predicted summary:  ने दिया करोड़ रुपये का जुर्माना\n",
            "\n",
            "\n",
            "Review: लोकसभा चुनाव में जीत हासिल करने के लिए उम्मीदवार अपनी पूरी ताकत दिखाना चाहते हैं लेकिन उत्तर प्रदेश के उन्नाव से भारतीय जनता पार्टी के उम्मीदवार और अपने बयानों को लेकर चर्चा में रहने वाले साक्षी महाराज को नामांकन में ताकत दिखाना भारी पड़ गया नामांकन के दौरान से अधिक वाहन ले जाने के मामले में साक्षी महाराज पर केस दर्ज हो गया है साक्षी महाराज पर चुनाव आचार संहिता के उल्लंघन का मामला दर्ज हुआ है सोमवार को उन्होंने उन्नाव सीट से नामांकन किया इस दौरान उनके साथ से अधिक गाड़ियों का काफिला था लेकिन जब उनसे इन गाड़ियों के पास मांगे गए थे तो सभी की इजाजत दिखाने में वह नाकाम रहे और सिर्फ गाड़ियों के पास ही दिखा पाए इसके बाद प्रशासन ने उनके खिलाफ आदर्श आचार संहिता के उल्लंघन का मामला दर्ज किया है उन्नाव से पर्चा भरने के बाद साक्षी महाराज ने कांग्रेस पर राम मंदिर मुद्दे को लेकर निशाना साधा साक्षी महाराज ने कहा था कि कभी मंदिर के मुद्दे पर राजनीति नहीं करती है लेकिन कांग्रेस ने अगर अड़ंगा नहीं डाला होता तो अब तक राम मंदिर का निर्माण शुरू हो गया होता नेता ने कहा था कि यूपी से सीटें भाजपा जीतेगी और अबकी पार है साक्षी ने कहा कि सपा बसपा का गठबंधन नहीं है गौरतलब है कि साक्षी महाराज के टिकट को लेकर इस बार काफी विवाद हुआ था पहले अटकलें लगाई जा रही थीं कि उनका टिकट कट सकता है जिसके बाद उन्होंने यूपी बीजेपी के अध्यक्ष महेंद्र नाथ पांडेय को चिट्ठी लिख चेतावनी दी थी लेकिन बाद में जब टिकट वितरण हुआ था तो साक्षी महाराज को एक बार फिर मौका दिया गया चुनाव की हर ख़बर मिलेगी सीधे आपके इनबॉक्स में आम चुनाव की ताज़ा खबरों से अपडेट रहने के लिएसब्सक्राइबकरें आजतक का इलेक्शन स्पेशल न्यूज़लेटर \n",
            "Original summary: नामांकन में गाड़ी ले जाने पर बढ़ी साक्षी महाराज की मुश्किलें केस दर्ज \n",
            "Predicted summary:  में लगे विधायकों के खिलाफ मामला दर्ज\n",
            "\n",
            "\n",
            "Review: स्पोर्ट्स डेवलपमेंट ऑथोरिटी ऑफ तमिलनाडु में जूनियर असिस्टेंट कम टाइपिस्ट के पदों के लिए भर्तियां निकली हैं इन पदों के लिए आवेदन सितंबर तक स्वीकार किए जाएंगे पदों का विवरण जूनियर असिस्टेंट कम टाइपिस्ट असिस्टेंट ग्रेड कमर्शियल एकाउंटेंट असिस्टेंट इंजीनियर स्पोर्टस टेक्नोलॉजी असिस्टेंट इंजीनियर इलेक्ट्रिकल उम्र सीमा से सालज्यादा जानकारी के लिए पर लॉग इन करें \n",
            "Original summary: स्पोर्ट्स डेवलपमेंट ऑफ तमिलनाडु में वैकेंसी \n",
            "Predicted summary:  सेंट्रल एंड इंस्टीट्यूट ऑफ में वैकेंसी\n",
            "\n",
            "\n",
            "Review: घर हो या दफ्तर राजधानी में महिलाएं कहीं भी सुरक्षित नहीं है दिल्ली के डीडीयू अस्पताल में महिलाएं अपने लिए सुरक्षा की मांग कर रही है दरअसल रात की ड्यूटी के दौरान अस्पताल की एक नर्स के साथ तीन लोगों ने नशे की हालत में छेड़छाड़ की और विरोध करने पर देख लेने की धमकी भी दी छेड़खानी का आरोप अस्पताल के स्टॉफ के ही बेटे पर है शिकायत के बावजूद कई घंटे बीत जाने के बाद भी पुलिस ने मामला दर्ज नहीं किया इस मामले को लेकर नर्सों ने एमएस ऑफिस के बाहर जमकर प्रदर्शन किया और अस्पताल प्रशासन के खिलाफ नारेबाजी भी की नर्सों ने सुरक्षा की मांग की है और मामला दर्ज कर आरोपी की गिरफ़्तारी की मांग भी की है \n",
            "Original summary: अस्पताल में नर्स के साथ छेड़छाड़ \n",
            "Predicted summary:  दिल्ली में महिला से गैंगरेप\n",
            "\n",
            "\n",
            "Review: आज संविधान समिति के अध्यक्ष और भारत के पहले कानून मंत्री बाबासाहब भीमराव अंबेडकर की वीं जयंती है इस मौके ने आज अपना अंबेडकर के नाम समर्पित किया है गूगल अक्सर महान शख्सियतों को सम्मान देने के लिए ऐसा करता आया है पूरे देश में भी अंबेडकर की जयंती के लिए कई कार्यक्रम आयोजित किए जा रहे हैं कई राजनीतिक पार्टियों ने भी अंबेडकर की जयंती के लिए कार्यक्रमों का आयोजन किया है मुफ्ती ने दी अंबेडकर को मुफ्ती मोहम्मद सईद ने भी बीआर अंबेडकर को उनकी वीं जयंती की पूर्व संध्या पर श्रद्धांजलि दी जम्मू कश्मीर के राज्यपाल राज्यपाल नरेंद्र नाथ वोहरा ने अपने संदेश में याद किया कि एक उत्कृष्ट अंबेडकर ने भारतीय संविधान तैयार करने और राष्ट्र निर्माण में महत्वपूर्ण योगदान दिया विशेष तौर पर समाज के कमजोर वर्गों के उत्थान में सईद ने अपने संदेश में कहा कि डा अंबेडकर एक महान सामाजिक सुधारक एवं कानून विद् थे जिन्होंने भारतीय संविधान तैयार करने में एक महत्वपूर्ण भूमिका निभाई \n",
            "Original summary: आज का गूगल डूडल डॉ अंबेडकर के नाम \n",
            "Predicted summary:  के लिए चेयरमैन की किताब\n",
            "\n",
            "\n",
            "Review: लखनऊ में घंटों के भीतर के मामले सामने आए हैं ताजा मामले स्कूली छात्र छात्राओं के आत्महत्या के हैं आत्महत्या करने वाला साल का विजय अगर होता तो देख पाता कि उसकी मां कितना तड़प रही है उसने सिर्फ इसलिए अपनी जान दे दी कि उसे स्कूल आने से रोका गया था उसे लगभग डेढ़ महीने पहले स्कूल से निकाल दिया गया था उसके पिता के मुताबिक एक अध्यापिका ने उसे मुर्गा बनने के लिए कहा था सातवीं क्लास में पढ़ने वाली शिवानी न जाने किस बात से गुस्से में आकर अपनी जान दे दी पिछले घंटों में खुदकुशी की घटनाओं ने लखनऊ को हिलाकर रख दिया है यह सवाल अपनी जगह बरकरार है कि इन बच्चों को आखिर हुआ क्या है इन्हें कोई कैसे समझाए कि जिंदगी की कोई भी समस्या इतनी बड़ी नहीं होती कि उसके आगे जिंदगी ही हार जाए \n",
            "Original summary: लखनऊ में घंटों के भीतर खुदकुशी \n",
            "Predicted summary:  लखनऊ में बच्चों को बच्चों की मौत\n",
            "\n",
            "\n",
            "Review: विश्व हिंदू परिषदके प्रमुख डॉ प्रवीण तोगड़िया ने एक बार फिर विवादित बयान दे डाला है उन्होंने रावलपिंडी और लाहौर में भगवा लहराने की बात की यही नहीं उन्होंने एक के बाद एक विवादित बयान दिए वीएचपी के स्वर्ण जयंती वर्ष के मौके पर राजस्थान के पाली में उन्होंने कहा हम सब उत्सव तब मनाएंगे जब राम मंदिर का निर्माण पूरा हो जाएगा जब रावलपिंडी और लाहौर में भगवा और जब कश्मीर से निकाले गए हिंदू जिहादियों की छाती पर पैर रख कर वापस आएंगे यही नहीं इस समारोह में प्रवीण तोगड़िया ने साक्षी महाराज के बयान हिंदू महिला पैदा करे चार बच्चे वाले बयान को भी सही ठहरा दिया और कहा कि हिंदू राष्ट्र बनाने के लिए यह जरूरी है गुरुवार को इस सम्मेलन में प्रवीण तोगड़िया ने कहा धर्मांतरण को ना घर वापसी को हां लव जिहाद को ना समान नागरिक संहिता को हां उन्होंने राज्य सरकार द्वारा मंदिर के अधिग्रहण किए जाने पर अखिलेश यादव को कहा हिम्मत है तो किसी मस्जिद का अधिग्रहण कर दिखाएं अगर मस्जिद अधिग्रहण नहीं कर सकते तो हम मंदिर का अधिग्रहण नहीं होने देंगे \n",
            "Original summary: बोले लाहौर में भगवा तब उत्सव मनाएंगे \n",
            "Predicted summary:  के साथ बयान पर बोले मैं\n",
            "\n",
            "\n",
            "Review: फरीदाबाद के न्यू टाउन स्टेशन के पास राजधानी एक्सप्रेस से कटकर लोगों की मौत हो गई ये लोग ट्रैक पार कर रहें थें जब ये दर्दनाक दुर्घटना हुई अभी मृतकों की पहचान नहीं हो पाई है सूत्रों के अनुसार कड़ाके की ठंड और कोहरे के कारण ये दुर्घटना हुई इस घटना की खबर जैसे ही आस पास के इलाकों में पहुंची मौके पर काफी संख्या में लोग जमा हो गए पुलिस ने सभी शवों को पोस्टमार्टम के लिए भेज दिया है \n",
            "Original summary: फरीदाबाद राजधानी एक्सप्रेस से की मौत \n",
            "Predicted summary:  दिल्ली ट्रेन पर आग से लोगों की मौत\n",
            "\n",
            "\n",
            "Review: जम्मू कश्मीर के हंदवाड़ा में पुलिस पोस्ट पर हमले की खबर है आतंकियों ने हंदवाड़ा में में पुलिस पोस्ट पर पहले ग्रेनेड फेंका और जब ग्रेनेड नहीं फटा तो आतंकियों ने फायरिंग की हमले में कोई घायल नहीं हुआ है कुपवाड़ा जिले के हंदवाड़ा में आतंकी हमले के बाद पुलिस और सुरक्षाबलों ने पूरे इलाके को घेर लिया है आतंकियों को पकड़ने के लिए पूरे इलाके में सर्च ऑपरेशन शुरू किया गया है इस पुलिस पोस्ट में अल्पसंख्यक समुदाय की सुरक्षा के लिए हाल ही में बनाया गया था पीओके में घुसकर इंडियन आर्मी के सर्जिकल ऑपरेशन के बाद से घाटी में आतंकी हमलों में तेजी आई है स्थिति को देखते हुए संवेदनशील इलाकों में सुरक्षाबलों की तैनाती बढ़ा दी गई है \n",
            "Original summary: हंदवाड़ा में पुलिस पोस्ट पर हमला ग्रेनेड नहीं फटने पर आतंकियों ने की फायरिंग \n",
            "Predicted summary:  जम्मू कश्मीर में मुठभेड़ पुलिस ने मार गिराए दो जवान\n",
            "\n",
            "\n",
            "Review: बॉलीवुड के गलियारों में उड़ती उड़ती खबर है कि दबंग सलमान खान और उनकी तथाकथित गर्लफ्रेंड का ब्रेक अप हो गया है हाल ही में सलमान और उलिया ने काफी सुर्खियां बंटोरी थीं क्योंकि दोनों कई मौकों पर एक साथ दिखाई दिए थे यही नहीं पर उनकी तस्वीरें भी लीक हो गईं थीं एक तस्वीर में दोनों साथ साथ पिकनिक मनाते हुए दिखे थे जबकि दूसरी में सलमान और उनके परिवार के साथ उलिया किसी रेस्टोरेंट में खाना खा रही थीं जब से सलमान और कटरीना कैफ का ब्रेक अप हुआ था तब से वे उलिया वंतुर के साथ कई जगह दिखाई दिए वंतुर रोम की टीवी एक्ट्रेस और प्रेजेंटर हैं दोनों के रिश्ते का खुलासा होने के बाद से ही ऐसी अफवाहें थीं कि वंतुर पहले से जर्मनी के एक संगीतकार के साथ शादी कर चुकी हैं हालांकि इस मामले में उलिया ने कभी कुछ नहीं कहा मिड डे की एक रिपोर्ट के मुताबिक उलिया ग्रैमी अवॉर्ड्स के लिए नामांकित संगीतकार मोगा से शादी कर चुकी हैं जब उनसे इस बारे में पूछा गया तो उन्होंने आरोपों से इनकार कर दिया इसके बाद सलमान के परिवार ने मामले पर दखल देने का फैसला किया खबरों के मुताबिक ईद के मौके पर सलमान अपने करीबी दोस्त बाबा सिद्दिकी के साथ थे और उलिया वंतुर पहले ही रोम वापस जा चुकी हैं \n",
            "Original summary: सलमान खान ने तोड़ लिया से रिश्ता \n",
            "Predicted summary:  सलमान खान ने शाहरुख खान को किया याद\n",
            "\n",
            "\n"
          ]
        }
      ]
    },
    {
      "cell_type": "code",
      "metadata": {
        "id": "EEyLzWlwtV0f"
      },
      "source": [
        "from __future__ import division\n",
        "from itertools import chain\n",
        "\n",
        "\n",
        "def get_unigram_count(tokens):\n",
        "    count_dict = dict()\n",
        "    for t in tokens:\n",
        "        if t in count_dict:\n",
        "            count_dict[t] += 1\n",
        "        else:\n",
        "            count_dict[t] = 1\n",
        "\n",
        "    return count_dict\n",
        "\n",
        "\n",
        "class Rouge:\n",
        "    beta = 1\n",
        "\n",
        "    @staticmethod\n",
        "    def my_lcs_grid(x, y):\n",
        "        n = len(x)\n",
        "        m = len(y)\n",
        "\n",
        "        table = [[0 for i in range(m + 1)] for j in range(n + 1)]\n",
        "\n",
        "        for j in range(m + 1):\n",
        "            for i in range(n + 1):\n",
        "                if i == 0 or j == 0:\n",
        "                    cell = (0, 'e')\n",
        "                elif x[i - 1] == y[j - 1]:\n",
        "                    cell = (table[i - 1][j - 1][0] + 1, '\\\\')\n",
        "                else:\n",
        "                    over = table[i - 1][j][0]\n",
        "                    left = table[i][j - 1][0]\n",
        "\n",
        "                    if left < over:\n",
        "                        cell = (over, '^')\n",
        "                    else:\n",
        "                        cell = (left, '<')\n",
        "\n",
        "                table[i][j] = cell\n",
        "\n",
        "        return table\n",
        "\n",
        "    @staticmethod\n",
        "    def my_lcs(x, y, mask_x):\n",
        "        table = Rouge.my_lcs_grid(x, y)\n",
        "        i = len(x)\n",
        "        j = len(y)\n",
        "\n",
        "        while i > 0 and j > 0:\n",
        "            move = table[i][j][1]\n",
        "            if move == '\\\\':\n",
        "                mask_x[i - 1] = 1\n",
        "                i -= 1 \n",
        "                j -= 1\n",
        "            elif move == '^':\n",
        "                i -= 1\n",
        "            elif move == '<':\n",
        "                j -= 1\n",
        "\n",
        "        return mask_x\n",
        "\n",
        "    @staticmethod\n",
        "    def rouge_l(cand_sents, ref_sents):\n",
        "        lcs_scores = 0.0\n",
        "        cand_unigrams = get_unigram_count(chain(*cand_sents))\n",
        "        ref_unigrams = get_unigram_count(chain(*ref_sents))\n",
        "        for cand_sent in cand_sents:\n",
        "            cand_token_mask = [0 for t in cand_sent]\n",
        "            cand_len = len(cand_sent)\n",
        "            for ref_sent in ref_sents:\n",
        "                # aligns = []\n",
        "                # Rouge.lcs(ref_sent, cand_sent, aligns)\n",
        "                Rouge.my_lcs(cand_sent, ref_sent, cand_token_mask)\n",
        "\n",
        "                # for i in aligns:\n",
        "                #     ref_token_mask[i] = 1\n",
        "            # lcs = []\n",
        "            cur_lcs_score = 0.0\n",
        "            for i in range(cand_len):\n",
        "                if cand_token_mask[i]:\n",
        "                    token = cand_sent[i]\n",
        "                    if cand_unigrams[token] > 0 and ref_unigrams[token] > 0:\n",
        "                        cand_unigrams[token] -= 1\n",
        "                        ref_unigrams[token] -= 1\n",
        "                        cur_lcs_score += 1\n",
        "\n",
        "                        # lcs.append(token)\n",
        "\n",
        "            # print ' '.join(lcs)\n",
        "\n",
        "            lcs_scores += cur_lcs_score\n",
        "\n",
        "        # print \"lcs_scores: %d\" % lcs_scores\n",
        "        ref_words_count = sum(len(s) for s in ref_sents)\n",
        "        # print \"ref_words_count: %d\" % ref_words_count\n",
        "        cand_words_count = sum(len(s) for s in cand_sents)\n",
        "        # print \"cand_words_count: %d\" % cand_words_count\n",
        "\n",
        "        precision = lcs_scores / cand_words_count\n",
        "        recall = lcs_scores / ref_words_count\n",
        "        f_score = (1 + Rouge.beta ** 2) * precision * recall / (recall +\n",
        "                                                                Rouge.beta ** 2 * precision + 1e-7) + 1e-6  # prevent underflow\n",
        "        return precision, recall, f_score\n",
        "\n",
        "    # @staticmethod\n",
        "    # def rouge_2(cand_sents, ref_sents):\n",
        "    #     cand_bigram_counts = get_bigram_counts(cand_sents)\n",
        "    #     ref_bigram_counts = get_bigram_counts(ref_sents)"
      ],
      "execution_count": null,
      "outputs": []
    },
    {
      "cell_type": "code",
      "metadata": {
        "id": "woNwSza36Hyt"
      },
      "source": [
        "count=20\n",
        "sum_F=12.346860213552002\n",
        "avg_F=0.3527674346729143"
      ],
      "execution_count": null,
      "outputs": []
    },
    {
      "cell_type": "code",
      "metadata": {
        "colab": {
          "base_uri": "https://localhost:8080/"
        },
        "id": "cwUIJimX5BZK",
        "outputId": "dcda4679-ebda-4698-a27d-15a03e9d6825"
      },
      "source": [
        "r = Rouge()\n",
        "\n",
        "system_generated_summary = seq2summary(y_tr[9])\n",
        "manual_summmary = decode_sequence(x_tr[9].reshape(1,max_text_len))\n",
        "\n",
        "[precision, recall, f_score] = r.rouge_l([system_generated_summary], [manual_summmary])\n",
        "\n",
        "print(\"Precision is :\"+str(precision)+\"\\nRecall is :\"+str(recall)+\"\\nF Score is :\"+str(f_score))\n",
        "\n",
        "sum_F=sum_F+f_score\n",
        "avg_F=sum_F/count\n",
        "\n",
        "print(\"Sum of ROUGE Score: \",sum_F)\n",
        "print(\"Average ROUGE Score = \", avg_F)\n",
        "\n"
      ],
      "execution_count": null,
      "outputs": [
        {
          "output_type": "stream",
          "name": "stdout",
          "text": [
            "Precision is :0.6060606060606061\n",
            "Recall is :0.5555555555555556\n",
            "F Score is :0.5797110950220584\n",
            "Sum of ROUGE Score:  13.50628240359612\n",
            "Average ROUGE Score =  0.6753141201798061\n"
          ]
        }
      ]
    },
    {
      "cell_type": "code",
      "metadata": {
        "colab": {
          "base_uri": "https://localhost:8080/",
          "height": 536
        },
        "id": "vxMg47iZrtcn",
        "outputId": "d99d6d83-94a8-4b90-944d-f7da4ebee956"
      },
      "source": [
        "input1 = input(\"Enter the article: \")\n",
        "'''preprocess_tokenize(input1)\n",
        "xt_tokenizer = Tokenizer() \n",
        "\n",
        "xt_tokenizer.fit_on_texts(input1)\n",
        "input1_seq   =   xt_tokenizer.texts_to_sequences(input1)'''\n",
        "\n",
        "decode_sequence(input1)"
      ],
      "execution_count": null,
      "outputs": [
        {
          "output_type": "error",
          "ename": "KeyboardInterrupt",
          "evalue": "ignored",
          "traceback": [
            "\u001b[0;31m---------------------------------------------------------------------------\u001b[0m",
            "\u001b[0;31mKeyboardInterrupt\u001b[0m                         Traceback (most recent call last)",
            "\u001b[0;32m/usr/local/lib/python3.7/dist-packages/ipykernel/kernelbase.py\u001b[0m in \u001b[0;36m_input_request\u001b[0;34m(self, prompt, ident, parent, password)\u001b[0m\n\u001b[1;32m    728\u001b[0m             \u001b[0;32mtry\u001b[0m\u001b[0;34m:\u001b[0m\u001b[0;34m\u001b[0m\u001b[0;34m\u001b[0m\u001b[0m\n\u001b[0;32m--> 729\u001b[0;31m                 \u001b[0mident\u001b[0m\u001b[0;34m,\u001b[0m \u001b[0mreply\u001b[0m \u001b[0;34m=\u001b[0m \u001b[0mself\u001b[0m\u001b[0;34m.\u001b[0m\u001b[0msession\u001b[0m\u001b[0;34m.\u001b[0m\u001b[0mrecv\u001b[0m\u001b[0;34m(\u001b[0m\u001b[0mself\u001b[0m\u001b[0;34m.\u001b[0m\u001b[0mstdin_socket\u001b[0m\u001b[0;34m,\u001b[0m \u001b[0;36m0\u001b[0m\u001b[0;34m)\u001b[0m\u001b[0;34m\u001b[0m\u001b[0;34m\u001b[0m\u001b[0m\n\u001b[0m\u001b[1;32m    730\u001b[0m             \u001b[0;32mexcept\u001b[0m \u001b[0mException\u001b[0m\u001b[0;34m:\u001b[0m\u001b[0;34m\u001b[0m\u001b[0;34m\u001b[0m\u001b[0m\n",
            "\u001b[0;32m/usr/local/lib/python3.7/dist-packages/jupyter_client/session.py\u001b[0m in \u001b[0;36mrecv\u001b[0;34m(self, socket, mode, content, copy)\u001b[0m\n\u001b[1;32m    802\u001b[0m         \u001b[0;32mtry\u001b[0m\u001b[0;34m:\u001b[0m\u001b[0;34m\u001b[0m\u001b[0;34m\u001b[0m\u001b[0m\n\u001b[0;32m--> 803\u001b[0;31m             \u001b[0mmsg_list\u001b[0m \u001b[0;34m=\u001b[0m \u001b[0msocket\u001b[0m\u001b[0;34m.\u001b[0m\u001b[0mrecv_multipart\u001b[0m\u001b[0;34m(\u001b[0m\u001b[0mmode\u001b[0m\u001b[0;34m,\u001b[0m \u001b[0mcopy\u001b[0m\u001b[0;34m=\u001b[0m\u001b[0mcopy\u001b[0m\u001b[0;34m)\u001b[0m\u001b[0;34m\u001b[0m\u001b[0;34m\u001b[0m\u001b[0m\n\u001b[0m\u001b[1;32m    804\u001b[0m         \u001b[0;32mexcept\u001b[0m \u001b[0mzmq\u001b[0m\u001b[0;34m.\u001b[0m\u001b[0mZMQError\u001b[0m \u001b[0;32mas\u001b[0m \u001b[0me\u001b[0m\u001b[0;34m:\u001b[0m\u001b[0;34m\u001b[0m\u001b[0;34m\u001b[0m\u001b[0m\n",
            "\u001b[0;32m/usr/local/lib/python3.7/dist-packages/zmq/sugar/socket.py\u001b[0m in \u001b[0;36mrecv_multipart\u001b[0;34m(self, flags, copy, track)\u001b[0m\n\u001b[1;32m    624\u001b[0m         \"\"\"\n\u001b[0;32m--> 625\u001b[0;31m         \u001b[0mparts\u001b[0m \u001b[0;34m=\u001b[0m \u001b[0;34m[\u001b[0m\u001b[0mself\u001b[0m\u001b[0;34m.\u001b[0m\u001b[0mrecv\u001b[0m\u001b[0;34m(\u001b[0m\u001b[0mflags\u001b[0m\u001b[0;34m,\u001b[0m \u001b[0mcopy\u001b[0m\u001b[0;34m=\u001b[0m\u001b[0mcopy\u001b[0m\u001b[0;34m,\u001b[0m \u001b[0mtrack\u001b[0m\u001b[0;34m=\u001b[0m\u001b[0mtrack\u001b[0m\u001b[0;34m)\u001b[0m\u001b[0;34m]\u001b[0m\u001b[0;34m\u001b[0m\u001b[0;34m\u001b[0m\u001b[0m\n\u001b[0m\u001b[1;32m    626\u001b[0m         \u001b[0;31m# have first part already, only loop while more to receive\u001b[0m\u001b[0;34m\u001b[0m\u001b[0;34m\u001b[0m\u001b[0;34m\u001b[0m\u001b[0m\n",
            "\u001b[0;32mzmq/backend/cython/socket.pyx\u001b[0m in \u001b[0;36mzmq.backend.cython.socket.Socket.recv\u001b[0;34m()\u001b[0m\n",
            "\u001b[0;32mzmq/backend/cython/socket.pyx\u001b[0m in \u001b[0;36mzmq.backend.cython.socket.Socket.recv\u001b[0;34m()\u001b[0m\n",
            "\u001b[0;32mzmq/backend/cython/socket.pyx\u001b[0m in \u001b[0;36mzmq.backend.cython.socket._recv_copy\u001b[0;34m()\u001b[0m\n",
            "\u001b[0;32m/usr/local/lib/python3.7/dist-packages/zmq/backend/cython/checkrc.pxd\u001b[0m in \u001b[0;36mzmq.backend.cython.checkrc._check_rc\u001b[0;34m()\u001b[0m\n",
            "\u001b[0;31mKeyboardInterrupt\u001b[0m: ",
            "\nDuring handling of the above exception, another exception occurred:\n",
            "\u001b[0;31mKeyboardInterrupt\u001b[0m                         Traceback (most recent call last)",
            "\u001b[0;32m<ipython-input-59-66b5c49be834>\u001b[0m in \u001b[0;36m<module>\u001b[0;34m()\u001b[0m\n\u001b[0;32m----> 1\u001b[0;31m \u001b[0minput1\u001b[0m \u001b[0;34m=\u001b[0m \u001b[0minput\u001b[0m\u001b[0;34m(\u001b[0m\u001b[0;34m\"Enter the article: \"\u001b[0m\u001b[0;34m)\u001b[0m\u001b[0;34m\u001b[0m\u001b[0;34m\u001b[0m\u001b[0m\n\u001b[0m\u001b[1;32m      2\u001b[0m '''preprocess_tokenize(input1)\n\u001b[1;32m      3\u001b[0m \u001b[0mxt_tokenizer\u001b[0m \u001b[0;34m=\u001b[0m \u001b[0mTokenizer\u001b[0m\u001b[0;34m(\u001b[0m\u001b[0;34m)\u001b[0m\u001b[0;34m\u001b[0m\u001b[0;34m\u001b[0m\u001b[0m\n\u001b[1;32m      4\u001b[0m \u001b[0;34m\u001b[0m\u001b[0m\n\u001b[1;32m      5\u001b[0m \u001b[0mxt_tokenizer\u001b[0m\u001b[0;34m.\u001b[0m\u001b[0mfit_on_texts\u001b[0m\u001b[0;34m(\u001b[0m\u001b[0minput1\u001b[0m\u001b[0;34m)\u001b[0m\u001b[0;34m\u001b[0m\u001b[0;34m\u001b[0m\u001b[0m\n",
            "\u001b[0;32m/usr/local/lib/python3.7/dist-packages/ipykernel/kernelbase.py\u001b[0m in \u001b[0;36mraw_input\u001b[0;34m(self, prompt)\u001b[0m\n\u001b[1;32m    702\u001b[0m             \u001b[0mself\u001b[0m\u001b[0;34m.\u001b[0m\u001b[0m_parent_ident\u001b[0m\u001b[0;34m,\u001b[0m\u001b[0;34m\u001b[0m\u001b[0;34m\u001b[0m\u001b[0m\n\u001b[1;32m    703\u001b[0m             \u001b[0mself\u001b[0m\u001b[0;34m.\u001b[0m\u001b[0m_parent_header\u001b[0m\u001b[0;34m,\u001b[0m\u001b[0;34m\u001b[0m\u001b[0;34m\u001b[0m\u001b[0m\n\u001b[0;32m--> 704\u001b[0;31m             \u001b[0mpassword\u001b[0m\u001b[0;34m=\u001b[0m\u001b[0;32mFalse\u001b[0m\u001b[0;34m,\u001b[0m\u001b[0;34m\u001b[0m\u001b[0;34m\u001b[0m\u001b[0m\n\u001b[0m\u001b[1;32m    705\u001b[0m         )\n\u001b[1;32m    706\u001b[0m \u001b[0;34m\u001b[0m\u001b[0m\n",
            "\u001b[0;32m/usr/local/lib/python3.7/dist-packages/ipykernel/kernelbase.py\u001b[0m in \u001b[0;36m_input_request\u001b[0;34m(self, prompt, ident, parent, password)\u001b[0m\n\u001b[1;32m    732\u001b[0m             \u001b[0;32mexcept\u001b[0m \u001b[0mKeyboardInterrupt\u001b[0m\u001b[0;34m:\u001b[0m\u001b[0;34m\u001b[0m\u001b[0;34m\u001b[0m\u001b[0m\n\u001b[1;32m    733\u001b[0m                 \u001b[0;31m# re-raise KeyboardInterrupt, to truncate traceback\u001b[0m\u001b[0;34m\u001b[0m\u001b[0;34m\u001b[0m\u001b[0;34m\u001b[0m\u001b[0m\n\u001b[0;32m--> 734\u001b[0;31m                 \u001b[0;32mraise\u001b[0m \u001b[0mKeyboardInterrupt\u001b[0m\u001b[0;34m\u001b[0m\u001b[0;34m\u001b[0m\u001b[0m\n\u001b[0m\u001b[1;32m    735\u001b[0m             \u001b[0;32melse\u001b[0m\u001b[0;34m:\u001b[0m\u001b[0;34m\u001b[0m\u001b[0;34m\u001b[0m\u001b[0m\n\u001b[1;32m    736\u001b[0m                 \u001b[0;32mbreak\u001b[0m\u001b[0;34m\u001b[0m\u001b[0;34m\u001b[0m\u001b[0m\n",
            "\u001b[0;31mKeyboardInterrupt\u001b[0m: "
          ]
        }
      ]
    }
  ]
}